{
  "nbformat": 4,
  "nbformat_minor": 0,
  "metadata": {
    "colab": {
      "provenance": [],
      "toc_visible": true,
      "authorship_tag": "ABX9TyNu1X493nQ0TE9NZXYIthsM",
      "include_colab_link": true
    },
    "kernelspec": {
      "name": "python3",
      "display_name": "Python 3"
    },
    "language_info": {
      "name": "python"
    }
  },
  "cells": [
    {
      "cell_type": "markdown",
      "metadata": {
        "id": "view-in-github",
        "colab_type": "text"
      },
      "source": [
        "<a href=\"https://colab.research.google.com/github/beneDesp/GLDM3002/blob/lab1/Lab1_walsh.ipynb\" target=\"_parent\"><img src=\"https://colab.research.google.com/assets/colab-badge.svg\" alt=\"Open In Colab\"/></a>"
      ]
    },
    {
      "cell_type": "markdown",
      "source": [
        "# Load Data and Libraries"
      ],
      "metadata": {
        "id": "cG9BDSuTofS7"
      }
    },
    {
      "cell_type": "code",
      "execution_count": 2,
      "metadata": {
        "colab": {
          "base_uri": "https://localhost:8080/",
          "height": 73
        },
        "id": "y-B5Whubn-5Y",
        "outputId": "3a04b7c5-5088-42f4-9554-a1a3bfe0de52"
      },
      "outputs": [
        {
          "output_type": "display_data",
          "data": {
            "text/plain": [
              "<IPython.core.display.HTML object>"
            ],
            "text/html": [
              "\n",
              "     <input type=\"file\" id=\"files-7290eda9-93b4-4459-8952-97c83c588bc2\" name=\"files[]\" multiple disabled\n",
              "        style=\"border:none\" />\n",
              "     <output id=\"result-7290eda9-93b4-4459-8952-97c83c588bc2\">\n",
              "      Upload widget is only available when the cell has been executed in the\n",
              "      current browser session. Please rerun this cell to enable.\n",
              "      </output>\n",
              "      <script>// Copyright 2017 Google LLC\n",
              "//\n",
              "// Licensed under the Apache License, Version 2.0 (the \"License\");\n",
              "// you may not use this file except in compliance with the License.\n",
              "// You may obtain a copy of the License at\n",
              "//\n",
              "//      http://www.apache.org/licenses/LICENSE-2.0\n",
              "//\n",
              "// Unless required by applicable law or agreed to in writing, software\n",
              "// distributed under the License is distributed on an \"AS IS\" BASIS,\n",
              "// WITHOUT WARRANTIES OR CONDITIONS OF ANY KIND, either express or implied.\n",
              "// See the License for the specific language governing permissions and\n",
              "// limitations under the License.\n",
              "\n",
              "/**\n",
              " * @fileoverview Helpers for google.colab Python module.\n",
              " */\n",
              "(function(scope) {\n",
              "function span(text, styleAttributes = {}) {\n",
              "  const element = document.createElement('span');\n",
              "  element.textContent = text;\n",
              "  for (const key of Object.keys(styleAttributes)) {\n",
              "    element.style[key] = styleAttributes[key];\n",
              "  }\n",
              "  return element;\n",
              "}\n",
              "\n",
              "// Max number of bytes which will be uploaded at a time.\n",
              "const MAX_PAYLOAD_SIZE = 100 * 1024;\n",
              "\n",
              "function _uploadFiles(inputId, outputId) {\n",
              "  const steps = uploadFilesStep(inputId, outputId);\n",
              "  const outputElement = document.getElementById(outputId);\n",
              "  // Cache steps on the outputElement to make it available for the next call\n",
              "  // to uploadFilesContinue from Python.\n",
              "  outputElement.steps = steps;\n",
              "\n",
              "  return _uploadFilesContinue(outputId);\n",
              "}\n",
              "\n",
              "// This is roughly an async generator (not supported in the browser yet),\n",
              "// where there are multiple asynchronous steps and the Python side is going\n",
              "// to poll for completion of each step.\n",
              "// This uses a Promise to block the python side on completion of each step,\n",
              "// then passes the result of the previous step as the input to the next step.\n",
              "function _uploadFilesContinue(outputId) {\n",
              "  const outputElement = document.getElementById(outputId);\n",
              "  const steps = outputElement.steps;\n",
              "\n",
              "  const next = steps.next(outputElement.lastPromiseValue);\n",
              "  return Promise.resolve(next.value.promise).then((value) => {\n",
              "    // Cache the last promise value to make it available to the next\n",
              "    // step of the generator.\n",
              "    outputElement.lastPromiseValue = value;\n",
              "    return next.value.response;\n",
              "  });\n",
              "}\n",
              "\n",
              "/**\n",
              " * Generator function which is called between each async step of the upload\n",
              " * process.\n",
              " * @param {string} inputId Element ID of the input file picker element.\n",
              " * @param {string} outputId Element ID of the output display.\n",
              " * @return {!Iterable<!Object>} Iterable of next steps.\n",
              " */\n",
              "function* uploadFilesStep(inputId, outputId) {\n",
              "  const inputElement = document.getElementById(inputId);\n",
              "  inputElement.disabled = false;\n",
              "\n",
              "  const outputElement = document.getElementById(outputId);\n",
              "  outputElement.innerHTML = '';\n",
              "\n",
              "  const pickedPromise = new Promise((resolve) => {\n",
              "    inputElement.addEventListener('change', (e) => {\n",
              "      resolve(e.target.files);\n",
              "    });\n",
              "  });\n",
              "\n",
              "  const cancel = document.createElement('button');\n",
              "  inputElement.parentElement.appendChild(cancel);\n",
              "  cancel.textContent = 'Cancel upload';\n",
              "  const cancelPromise = new Promise((resolve) => {\n",
              "    cancel.onclick = () => {\n",
              "      resolve(null);\n",
              "    };\n",
              "  });\n",
              "\n",
              "  // Wait for the user to pick the files.\n",
              "  const files = yield {\n",
              "    promise: Promise.race([pickedPromise, cancelPromise]),\n",
              "    response: {\n",
              "      action: 'starting',\n",
              "    }\n",
              "  };\n",
              "\n",
              "  cancel.remove();\n",
              "\n",
              "  // Disable the input element since further picks are not allowed.\n",
              "  inputElement.disabled = true;\n",
              "\n",
              "  if (!files) {\n",
              "    return {\n",
              "      response: {\n",
              "        action: 'complete',\n",
              "      }\n",
              "    };\n",
              "  }\n",
              "\n",
              "  for (const file of files) {\n",
              "    const li = document.createElement('li');\n",
              "    li.append(span(file.name, {fontWeight: 'bold'}));\n",
              "    li.append(span(\n",
              "        `(${file.type || 'n/a'}) - ${file.size} bytes, ` +\n",
              "        `last modified: ${\n",
              "            file.lastModifiedDate ? file.lastModifiedDate.toLocaleDateString() :\n",
              "                                    'n/a'} - `));\n",
              "    const percent = span('0% done');\n",
              "    li.appendChild(percent);\n",
              "\n",
              "    outputElement.appendChild(li);\n",
              "\n",
              "    const fileDataPromise = new Promise((resolve) => {\n",
              "      const reader = new FileReader();\n",
              "      reader.onload = (e) => {\n",
              "        resolve(e.target.result);\n",
              "      };\n",
              "      reader.readAsArrayBuffer(file);\n",
              "    });\n",
              "    // Wait for the data to be ready.\n",
              "    let fileData = yield {\n",
              "      promise: fileDataPromise,\n",
              "      response: {\n",
              "        action: 'continue',\n",
              "      }\n",
              "    };\n",
              "\n",
              "    // Use a chunked sending to avoid message size limits. See b/62115660.\n",
              "    let position = 0;\n",
              "    do {\n",
              "      const length = Math.min(fileData.byteLength - position, MAX_PAYLOAD_SIZE);\n",
              "      const chunk = new Uint8Array(fileData, position, length);\n",
              "      position += length;\n",
              "\n",
              "      const base64 = btoa(String.fromCharCode.apply(null, chunk));\n",
              "      yield {\n",
              "        response: {\n",
              "          action: 'append',\n",
              "          file: file.name,\n",
              "          data: base64,\n",
              "        },\n",
              "      };\n",
              "\n",
              "      let percentDone = fileData.byteLength === 0 ?\n",
              "          100 :\n",
              "          Math.round((position / fileData.byteLength) * 100);\n",
              "      percent.textContent = `${percentDone}% done`;\n",
              "\n",
              "    } while (position < fileData.byteLength);\n",
              "  }\n",
              "\n",
              "  // All done.\n",
              "  yield {\n",
              "    response: {\n",
              "      action: 'complete',\n",
              "    }\n",
              "  };\n",
              "}\n",
              "\n",
              "scope.google = scope.google || {};\n",
              "scope.google.colab = scope.google.colab || {};\n",
              "scope.google.colab._files = {\n",
              "  _uploadFiles,\n",
              "  _uploadFilesContinue,\n",
              "};\n",
              "})(self);\n",
              "</script> "
            ]
          },
          "metadata": {}
        },
        {
          "output_type": "stream",
          "name": "stdout",
          "text": [
            "Saving Cereals.csv to Cereals.csv\n"
          ]
        }
      ],
      "source": [
        "from google.colab import files\n",
        "uploaded = files.upload()"
      ]
    },
    {
      "cell_type": "code",
      "source": [
        "import pandas as pd\n",
        "#/content/Cereals.csv\n",
        "cereals_df = pd.read_csv('/content/Cereals.csv')"
      ],
      "metadata": {
        "id": "pjUrR6VPp204"
      },
      "execution_count": 3,
      "outputs": []
    },
    {
      "cell_type": "markdown",
      "source": [
        "# Quantitative/Numerical"
      ],
      "metadata": {
        "id": "9U3WORo0oEYg"
      }
    },
    {
      "cell_type": "code",
      "source": [
        "cereals_df.dtypes"
      ],
      "metadata": {
        "colab": {
          "base_uri": "https://localhost:8080/"
        },
        "id": "EYLrZ9dvs0DO",
        "outputId": "95c91853-067c-4735-fa58-c5d46056a1cb"
      },
      "execution_count": 4,
      "outputs": [
        {
          "output_type": "execute_result",
          "data": {
            "text/plain": [
              "name         object\n",
              "mfr          object\n",
              "type         object\n",
              "calories      int64\n",
              "protein       int64\n",
              "fat           int64\n",
              "sodium        int64\n",
              "fiber       float64\n",
              "carbo       float64\n",
              "sugars      float64\n",
              "potass      float64\n",
              "vitamins      int64\n",
              "shelf         int64\n",
              "weight      float64\n",
              "cups        float64\n",
              "rating      float64\n",
              "dtype: object"
            ]
          },
          "metadata": {},
          "execution_count": 4
        }
      ]
    },
    {
      "cell_type": "code",
      "source": [
        "cereals_df.info()"
      ],
      "metadata": {
        "colab": {
          "base_uri": "https://localhost:8080/"
        },
        "id": "zpGVNaUBtSju",
        "outputId": "71530109-4cd9-4ddb-c787-d0d9606c12da"
      },
      "execution_count": 28,
      "outputs": [
        {
          "output_type": "stream",
          "name": "stdout",
          "text": [
            "<class 'pandas.core.frame.DataFrame'>\n",
            "RangeIndex: 77 entries, 0 to 76\n",
            "Data columns (total 16 columns):\n",
            " #   Column    Non-Null Count  Dtype  \n",
            "---  ------    --------------  -----  \n",
            " 0   name      77 non-null     object \n",
            " 1   mfr       77 non-null     object \n",
            " 2   type      77 non-null     object \n",
            " 3   calories  77 non-null     int64  \n",
            " 4   protein   77 non-null     int64  \n",
            " 5   fat       77 non-null     int64  \n",
            " 6   sodium    77 non-null     int64  \n",
            " 7   fiber     77 non-null     float64\n",
            " 8   carbo     76 non-null     float64\n",
            " 9   sugars    76 non-null     float64\n",
            " 10  potass    75 non-null     float64\n",
            " 11  vitamins  77 non-null     int64  \n",
            " 12  shelf     77 non-null     int64  \n",
            " 13  weight    77 non-null     float64\n",
            " 14  cups      77 non-null     float64\n",
            " 15  rating    77 non-null     float64\n",
            "dtypes: float64(7), int64(6), object(3)\n",
            "memory usage: 9.8+ KB\n"
          ]
        }
      ]
    },
    {
      "cell_type": "markdown",
      "source": [
        "## <u> Subquestions </u>\n",
        "\n",
        "**a)** ***quantitative/numeric varables:*** calories, protein, fat, sodium, fiber, carbo, sugars, potass, vitamins, weight, cups, rating\n",
        "\n",
        "**b.)**\n",
        "\n",
        "***nominal variables:*** name, mfr\n",
        "\n",
        "***ordinal variables:*** type (ordered by temperature), shelf"
      ],
      "metadata": {
        "id": "cGIJ7xb1tcd8"
      }
    },
    {
      "cell_type": "markdown",
      "source": [
        "# Summary Statistics"
      ],
      "metadata": {
        "id": "n4GLpKDfoMEj"
      }
    },
    {
      "cell_type": "code",
      "source": [
        "#type(cereals_df.describe())\n",
        "cereals_df.describe()\n",
        "print(cereals_df.describe().loc[['mean','50%','min','max','std']])"
      ],
      "metadata": {
        "colab": {
          "base_uri": "https://localhost:8080/"
        },
        "id": "cWOhTWSZqcqd",
        "outputId": "175d6de8-7187-47b4-8dc8-a344820f5641"
      },
      "execution_count": 25,
      "outputs": [
        {
          "output_type": "stream",
          "name": "stdout",
          "text": [
            "        calories   protein       fat      sodium      fiber      carbo  \\\n",
            "mean  106.883117  2.545455  1.012987  159.675325   2.151948  14.802632   \n",
            "50%   110.000000  3.000000  1.000000  180.000000   2.000000  14.500000   \n",
            "min    50.000000  1.000000  0.000000    0.000000   0.000000   5.000000   \n",
            "max   160.000000  6.000000  5.000000  320.000000  14.000000  23.000000   \n",
            "std    19.484119  1.094790  1.006473   83.832295   2.383364   3.907326   \n",
            "\n",
            "         sugars      potass    vitamins     shelf    weight      cups  \\\n",
            "mean   7.026316   98.666667   28.246753  2.207792  1.029610  0.821039   \n",
            "50%    7.000000   90.000000   25.000000  2.000000  1.000000  0.750000   \n",
            "min    0.000000   15.000000    0.000000  1.000000  0.500000  0.250000   \n",
            "max   15.000000  330.000000  100.000000  3.000000  1.500000  1.500000   \n",
            "std    4.378656   70.410636   22.342523  0.832524  0.150477  0.232716   \n",
            "\n",
            "         rating  \n",
            "mean  42.665705  \n",
            "50%   40.400208  \n",
            "min   18.042851  \n",
            "max   93.704912  \n",
            "std   14.047289  \n"
          ]
        }
      ]
    },
    {
      "cell_type": "markdown",
      "source": [
        "# Plot Histogram"
      ],
      "metadata": {
        "id": "XyED2MycoSL-"
      }
    },
    {
      "cell_type": "code",
      "source": [
        "import numpy as np\n",
        "from scipy.stats import skew\n",
        "from sklearn.preprocessing import StandardScaler\n",
        "\n",
        "sc = StandardScaler()\n",
        "cols = ['calories', 'protein', 'fat', 'sodium', 'fiber', 'carbo', 'sugars', 'potass', 'vitamins', 'weight', 'cups', 'rating']\n",
        "scaled_cereals_df= pd.DataFrame(sc.fit_transform(cereals_df[cols]), columns=cols)\n",
        "#print(type(scaled_cereals_df))\n",
        "#print(type(cereals_df))\n",
        "print(\"Describe output\")\n",
        "print(scaled_cereals_df.describe()) #.loc[['mean','50%','min','max','std']])\n",
        "\n",
        "def find_iqr(x):\n",
        "  return np.subtract(*np.nanpercentile(x, [75, 25]))\n",
        "print(\"IQR output\")\n",
        "print(scaled_cereals_df.apply(find_iqr))\n",
        "print(\"Skew output\")\n",
        "print(scaled_cereals_df.skew(axis=0))\n",
        "scaled_cereals_df.hist(figsize=(15, 10))"
      ],
      "metadata": {
        "colab": {
          "base_uri": "https://localhost:8080/",
          "height": 1000
        },
        "id": "vqQjqoL1hk_J",
        "outputId": "e55e61cf-83f3-48e5-a808-e60d3140cc9a"
      },
      "execution_count": 26,
      "outputs": [
        {
          "output_type": "stream",
          "name": "stdout",
          "text": [
            "Describe output\n",
            "           calories       protein           fat        sodium         fiber  \\\n",
            "count  7.700000e+01  7.700000e+01  7.700000e+01  7.700000e+01  7.700000e+01   \n",
            "mean  -8.398765e-17  2.018587e-17  8.583502e-17  5.767392e-18  9.155735e-17   \n",
            "std    1.006557e+00  1.006557e+00  1.006557e+00  1.006557e+00  1.006557e+00   \n",
            "min   -2.938605e+00 -1.420902e+00 -1.013072e+00 -1.917189e+00 -9.088244e-01   \n",
            "25%   -3.555846e-01 -5.014948e-01 -1.013072e+00 -3.563056e-01 -4.864980e-01   \n",
            "50%    1.610194e-01  4.179123e-01 -1.298811e-02  2.440343e-01 -6.417167e-02   \n",
            "75%    1.610194e-01  4.179123e-01  9.870962e-01  6.042382e-01  3.581547e-01   \n",
            "max    2.744040e+00  3.176134e+00  3.987349e+00  1.924986e+00  5.003745e+00   \n",
            "\n",
            "              carbo        sugars        potass      vitamins        weight  \\\n",
            "count  7.600000e+01  7.600000e+01  7.500000e+01  7.700000e+01  7.700000e+01   \n",
            "mean   4.236377e-17  2.300791e-17 -5.625130e-17  2.883696e-17 -1.881612e-16   \n",
            "std    1.006645e+00  1.006645e+00  1.006734e+00  1.006557e+00  1.006557e+00   \n",
            "min   -2.525453e+00 -1.615336e+00 -1.196269e+00 -1.272550e+00 -3.542628e+00   \n",
            "25%   -7.220422e-01 -9.256422e-01 -8.030732e-01 -1.462701e-01 -1.980675e-01   \n",
            "50%   -7.796700e-02 -6.049949e-03 -1.239163e-01 -1.462701e-01 -1.980675e-01   \n",
            "75%    5.661082e-01  9.135423e-01  3.050249e-01 -1.462701e-01 -1.980675e-01   \n",
            "max    2.111889e+00  1.833135e+00  3.307613e+00  3.232570e+00  3.146493e+00   \n",
            "\n",
            "               cups        rating  \n",
            "count  7.700000e+01  7.700000e+01  \n",
            "mean   1.492313e-16  3.027881e-17  \n",
            "std    1.006557e+00  1.006557e+00  \n",
            "min   -2.469891e+00 -1.764349e+00  \n",
            "25%   -6.532825e-01 -6.801207e-01  \n",
            "50%   -3.072619e-01 -1.623340e-01  \n",
            "75%    7.740527e-01  5.848967e-01  \n",
            "max    2.936682e+00  3.657211e+00  \n",
            "IQR output\n",
            "calories    0.516604\n",
            "protein     0.919407\n",
            "fat         2.000169\n",
            "sodium      0.960544\n",
            "fiber       0.844653\n",
            "carbo       1.288150\n",
            "sugars      1.839184\n",
            "potass      1.108098\n",
            "vitamins    0.000000\n",
            "weight      0.000000\n",
            "cups        1.427335\n",
            "rating      1.265017\n",
            "dtype: float64\n",
            "Skew output\n",
            "calories   -0.445407\n",
            "protein     0.745830\n",
            "fat         1.165989\n",
            "sodium     -0.575711\n",
            "fiber       2.431675\n",
            "carbo       0.112726\n",
            "sugars      0.044445\n",
            "potass      1.400355\n",
            "vitamins    2.463704\n",
            "weight      0.309857\n",
            "cups       -0.104981\n",
            "rating      0.910240\n",
            "dtype: float64\n"
          ]
        },
        {
          "output_type": "execute_result",
          "data": {
            "text/plain": [
              "array([[<Axes: title={'center': 'calories'}>,\n",
              "        <Axes: title={'center': 'protein'}>,\n",
              "        <Axes: title={'center': 'fat'}>],\n",
              "       [<Axes: title={'center': 'sodium'}>,\n",
              "        <Axes: title={'center': 'fiber'}>,\n",
              "        <Axes: title={'center': 'carbo'}>],\n",
              "       [<Axes: title={'center': 'sugars'}>,\n",
              "        <Axes: title={'center': 'potass'}>,\n",
              "        <Axes: title={'center': 'vitamins'}>],\n",
              "       [<Axes: title={'center': 'weight'}>,\n",
              "        <Axes: title={'center': 'cups'}>,\n",
              "        <Axes: title={'center': 'rating'}>]], dtype=object)"
            ]
          },
          "metadata": {},
          "execution_count": 26
        },
        {
          "output_type": "display_data",
          "data": {
            "text/plain": [
              "<Figure size 1500x1000 with 12 Axes>"
            ],
            "image/png": "[encoded data removed]"
          },
          "metadata": {}
        }
      ]
    },
    {
      "cell_type": "markdown",
      "source": [
        "## <u> Subquestions </u>\n",
        "\n",
        "**a)** ***Varables with largest variablilty:*** calories (fat tails, despite strong central tendency), per Interquartile range of scaled variables, fat and sugars are the variables with the largest variablility\n",
        "\n",
        "**b.)** ***Seemingly-skewed variables:*** fiber, potassium, vitamins\n",
        "\n",
        "**c.)** ***Seemingly-extreme variables:*** sodium, weight, rating"
      ],
      "metadata": {
        "id": "RCTJNa3ImQoE"
      }
    },
    {
      "cell_type": "markdown",
      "source": [],
      "metadata": {
        "id": "E9SqsLSHmAvs"
      }
    },
    {
      "cell_type": "markdown",
      "source": [
        "# Use Boxplot"
      ],
      "metadata": {
        "id": "WRetayEaoXBL"
      }
    },
    {
      "cell_type": "markdown",
      "source": [
        "# Correlation"
      ],
      "metadata": {
        "id": "n29PVMe8oaXy"
      }
    }
  ]
}