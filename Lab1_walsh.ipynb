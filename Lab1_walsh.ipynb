{
  "nbformat": 4,
  "nbformat_minor": 0,
  "metadata": {
    "colab": {
      "provenance": [],
      "toc_visible": true,
      "authorship_tag": "ABX9TyOfhQOCVmuqmHOfIwV7XqTq",
      "include_colab_link": true
    },
    "kernelspec": {
      "name": "python3",
      "display_name": "Python 3"
    },
    "language_info": {
      "name": "python"
    }
  },
  "cells": [
    {
      "cell_type": "markdown",
      "metadata": {
        "id": "view-in-github",
        "colab_type": "text"
      },
      "source": [
        "<a href=\"https://colab.research.google.com/github/beneDesp/GLDM3002/blob/lab1/Lab1_walsh.ipynb\" target=\"_parent\"><img src=\"https://colab.research.google.com/assets/colab-badge.svg\" alt=\"Open In Colab\"/></a>"
      ]
    },
    {
      "cell_type": "markdown",
      "source": [
        "# Load Data"
      ],
      "metadata": {
        "id": "cG9BDSuTofS7"
      }
    },
    {
      "cell_type": "code",
      "execution_count": null,
      "metadata": {
        "id": "y-B5Whubn-5Y"
      },
      "outputs": [],
      "source": []
    },
    {
      "cell_type": "markdown",
      "source": [
        "# Quantitative/Numerical"
      ],
      "metadata": {
        "id": "9U3WORo0oEYg"
      }
    },
    {
      "cell_type": "markdown",
      "source": [
        "# Summary Statistics"
      ],
      "metadata": {
        "id": "n4GLpKDfoMEj"
      }
    },
    {
      "cell_type": "markdown",
      "source": [
        "# Plot Histogram"
      ],
      "metadata": {
        "id": "XyED2MycoSL-"
      }
    },
    {
      "cell_type": "markdown",
      "source": [
        "# Use Boxplot"
      ],
      "metadata": {
        "id": "WRetayEaoXBL"
      }
    },
    {
      "cell_type": "markdown",
      "source": [
        "# Correlation"
      ],
      "metadata": {
        "id": "n29PVMe8oaXy"
      }
    }
  ]
}