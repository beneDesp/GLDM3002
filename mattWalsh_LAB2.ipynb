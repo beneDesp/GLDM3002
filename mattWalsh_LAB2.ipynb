{
  "nbformat": 4,
  "nbformat_minor": 0,
  "metadata": {
    "colab": {
      "provenance": [],
      "toc_visible": true,
      "authorship_tag": "ABX9TyPnecu05ysmeIfM25rIAHG+",
      "include_colab_link": true
    },
    "kernelspec": {
      "name": "python3",
      "display_name": "Python 3"
    },
    "language_info": {
      "name": "python"
    }
  },
  "cells": [
    {
      "cell_type": "markdown",
      "metadata": {
        "id": "view-in-github",
        "colab_type": "text"
      },
      "source": [
        "<a href=\"https://colab.research.google.com/github/beneDesp/GLDM3002/blob/lab2/mattWalsh_LAB2.ipynb\" target=\"_parent\"><img src=\"https://colab.research.google.com/assets/colab-badge.svg\" alt=\"Open In Colab\"/></a>"
      ]
    },
    {
      "cell_type": "markdown",
      "source": [
        "# Load Data"
      ],
      "metadata": {
        "id": "cG9BDSuTofS7"
      }
    },
    {
      "cell_type": "code",
      "execution_count": null,
      "metadata": {
        "id": "y-B5Whubn-5Y"
      },
      "outputs": [],
      "source": [
        "from google.colab import files\n",
        "uploaded = files.upload()"
      ]
    },
    {
      "cell_type": "code",
      "source": [
        "import pandas as pd\n",
        "#/content/Cereals.csv\n",
        "cereals_df = pd.read_csv('/content/Cereals.csv')"
      ],
      "metadata": {
        "id": "pjUrR6VPp204"
      },
      "execution_count": null,
      "outputs": []
    },
    {
      "cell_type": "markdown",
      "source": [
        "# Regression\n",
        "\n",
        "**Use Python** to load your dataset (\"Cereals.csv\") from your Canvas Data folder, to predict model form the data\n",
        "as follows:\n",
        "\n",
        "**(100%) Regression**\n",
        "\n",
        "Predict Multiple Regression Model for target or response variable (**`rating`**) vs. input or independent variables\n",
        "(**`calories, protein, fat, sodium, and fiber`**)"
      ],
      "metadata": {
        "id": "9U3WORo0oEYg"
      }
    },
    {
      "cell_type": "code",
      "source": [
        "cereals_df.dtypes"
      ],
      "metadata": {
        "id": "EYLrZ9dvs0DO"
      },
      "execution_count": null,
      "outputs": []
    },
    {
      "cell_type": "markdown",
      "source": [
        "## <u> Subquestions </u>\n",
        "\n",
        "**a)** ***quantitative/numeric varables:*** calories, protein, fat, sodium, fiber, carbo, sugars, potass, vitamins, weight, cups, rating\n",
        "\n",
        "**b.)**\n",
        "\n",
        "***nominal variables:*** name, mfr\n",
        "\n",
        "***ordinal variables:*** type (ordered by temperature), shelf (although identified as an integer, the integer represents a non-continuous distance from ground)"
      ],
      "metadata": {
        "id": "cGIJ7xb1tcd8"
      }
    },
    {
      "cell_type": "markdown",
      "source": [
        "# Summary Statistics"
      ],
      "metadata": {
        "id": "n4GLpKDfoMEj"
      }
    },
    {
      "cell_type": "code",
      "source": [
        "#type(cereals_df.describe())\n",
        "#cereals_df.describe()\n",
        "cols = ['calories', 'protein', 'fat', 'sodium', 'fiber', 'carbo', 'sugars', 'potass', 'vitamins', 'weight', 'cups', 'rating']\n",
        "print(cereals_df[cols].describe().loc[['mean','50%','min','max','std']])"
      ],
      "metadata": {
        "id": "cWOhTWSZqcqd"
      },
      "execution_count": null,
      "outputs": []
    },
    {
      "cell_type": "markdown",
      "source": [
        "# Plot Histogram"
      ],
      "metadata": {
        "id": "XyED2MycoSL-"
      }
    },
    {
      "cell_type": "code",
      "source": [
        "import numpy as np\n",
        "from scipy.stats import skew\n",
        "from sklearn.preprocessing import StandardScaler\n",
        "\n",
        "sc = StandardScaler()\n",
        "cols = ['calories', 'protein', 'fat', 'sodium', 'fiber', 'carbo', 'sugars', 'potass', 'vitamins', 'weight', 'cups', 'rating']\n",
        "scaled_cereals_df= pd.DataFrame(sc.fit_transform(cereals_df[cols]), columns=cols)\n",
        "\n",
        "print(scaled_cereals_df.hist(figsize=(15, 10)))"
      ],
      "metadata": {
        "id": "vqQjqoL1hk_J"
      },
      "execution_count": null,
      "outputs": []
    },
    {
      "cell_type": "markdown",
      "source": [
        "## <u> Additional tests for subquestions below: </u>"
      ],
      "metadata": {
        "id": "Px__CUa5v9SO"
      }
    },
    {
      "cell_type": "code",
      "source": [
        "#print(type(scaled_cereals_df))\n",
        "#print(type(cereals_df))\n",
        "print(\"Describe scaled variables output:\")\n",
        "print(scaled_cereals_df.describe()) #.loc[['mean','50%','min','max','std']])\n",
        "\n",
        "def find_iqr(x):\n",
        "  return np.subtract(*np.nanpercentile(x, [75, 25]))\n",
        "print(\"IQR output:\")\n",
        "print(scaled_cereals_df.apply(find_iqr))\n",
        "print(\"Skew output:\")\n",
        "print(scaled_cereals_df.skew(axis=0))"
      ],
      "metadata": {
        "id": "EFkfXdX2ugyJ"
      },
      "execution_count": null,
      "outputs": []
    },
    {
      "cell_type": "markdown",
      "source": [
        "## <u> Subquestions </u>\n",
        "\n",
        "**a)** ***Varables with largest variablilty:***\n",
        "\n",
        "\n",
        "1.   calories (fat tails, despite strong central tendency)\n",
        "2.   per Interquartile range (IQR) of scaled variables, fat and sugars are the variables with the largest variablility\n",
        "\n",
        "**b.)** ***Seemingly-skewed variables:*** fiber, potassium, vitamins rate high on a measure of skewedness\n",
        "\n",
        "**c.)** ***Seemingly-extreme variables:*** potassium and fat have the seemingly most extreme outlier values as indicated by the range of their x-axis in the plot of histograms where all variables are scaled"
      ],
      "metadata": {
        "id": "RCTJNa3ImQoE"
      }
    },
    {
      "cell_type": "markdown",
      "source": [
        "# Use Boxplot"
      ],
      "metadata": {
        "id": "WRetayEaoXBL"
      }
    },
    {
      "cell_type": "code",
      "source": [
        "import seaborn as sns\n",
        "sns.set_style(\"whitegrid\")\n",
        "#tips = sns.load_dataset(\"tips\")\n",
        "ax = sns.boxplot(x=\"shelf\", y=\"rating\",\n",
        "data=cereals_df, palette=\"Set3\")"
      ],
      "metadata": {
        "id": "d7SXvxN0prGq"
      },
      "execution_count": null,
      "outputs": []
    },
    {
      "cell_type": "markdown",
      "source": [
        "# Correlation"
      ],
      "metadata": {
        "id": "n29PVMe8oaXy"
      }
    },
    {
      "cell_type": "markdown",
      "source": [
        "## <u> Subquestions </u>\n",
        "\n",
        "**a)** ***Correlation table:***"
      ],
      "metadata": {
        "id": "_h96wMhtqoFL"
      }
    },
    {
      "cell_type": "code",
      "source": [
        "cols = ['calories', 'protein', 'fat', 'sodium', 'fiber', 'carbo', 'sugars', 'potass', 'vitamins', 'weight', 'cups', 'rating']\n",
        "cereals_df[cols].corr()"
      ],
      "metadata": {
        "id": "DPO0v6Yuq3ni"
      },
      "execution_count": null,
      "outputs": []
    },
    {
      "cell_type": "markdown",
      "source": [
        "**b.)** ***Discuss***\n",
        "\n",
        "The pair of vairiables most strongly correlated are potassium and fiber  and they are positively correlated."
      ],
      "metadata": {
        "id": "FYb96QC6q33d"
      }
    },
    {
      "cell_type": "code",
      "source": [
        "import matplotlib.pyplot as plt\n",
        "\n",
        "matrix = cereals_df[cols].corr().round(2)\n",
        "sns.heatmap(matrix, annot=True)\n",
        "plt.show()"
      ],
      "metadata": {
        "colab": {
          "base_uri": "https://localhost:8080/",
          "height": 220
        },
        "id": "gWQ_8ozssdgs",
        "outputId": "b8f91e1d-b147-42ad-8ecc-0057b867c782"
      },
      "execution_count": 1,
      "outputs": [
        {
          "output_type": "error",
          "ename": "NameError",
          "evalue": "name 'cereals_df' is not defined",
          "traceback": [
            "\u001b[0;31m---------------------------------------------------------------------------\u001b[0m",
            "\u001b[0;31mNameError\u001b[0m                                 Traceback (most recent call last)",
            "\u001b[0;32m<ipython-input-1-1097e8f6d321>\u001b[0m in \u001b[0;36m<cell line: 3>\u001b[0;34m()\u001b[0m\n\u001b[1;32m      1\u001b[0m \u001b[0;32mimport\u001b[0m \u001b[0mmatplotlib\u001b[0m\u001b[0;34m.\u001b[0m\u001b[0mpyplot\u001b[0m \u001b[0;32mas\u001b[0m \u001b[0mplt\u001b[0m\u001b[0;34m\u001b[0m\u001b[0;34m\u001b[0m\u001b[0m\n\u001b[1;32m      2\u001b[0m \u001b[0;34m\u001b[0m\u001b[0m\n\u001b[0;32m----> 3\u001b[0;31m \u001b[0mmatrix\u001b[0m \u001b[0;34m=\u001b[0m \u001b[0mcereals_df\u001b[0m\u001b[0;34m[\u001b[0m\u001b[0mcols\u001b[0m\u001b[0;34m]\u001b[0m\u001b[0;34m.\u001b[0m\u001b[0mcorr\u001b[0m\u001b[0;34m(\u001b[0m\u001b[0;34m)\u001b[0m\u001b[0;34m.\u001b[0m\u001b[0mround\u001b[0m\u001b[0;34m(\u001b[0m\u001b[0;36m2\u001b[0m\u001b[0;34m)\u001b[0m\u001b[0;34m\u001b[0m\u001b[0;34m\u001b[0m\u001b[0m\n\u001b[0m\u001b[1;32m      4\u001b[0m \u001b[0msns\u001b[0m\u001b[0;34m.\u001b[0m\u001b[0mheatmap\u001b[0m\u001b[0;34m(\u001b[0m\u001b[0mmatrix\u001b[0m\u001b[0;34m,\u001b[0m \u001b[0mannot\u001b[0m\u001b[0;34m=\u001b[0m\u001b[0;32mTrue\u001b[0m\u001b[0;34m)\u001b[0m\u001b[0;34m\u001b[0m\u001b[0;34m\u001b[0m\u001b[0m\n\u001b[1;32m      5\u001b[0m \u001b[0mplt\u001b[0m\u001b[0;34m.\u001b[0m\u001b[0mshow\u001b[0m\u001b[0;34m(\u001b[0m\u001b[0;34m)\u001b[0m\u001b[0;34m\u001b[0m\u001b[0;34m\u001b[0m\u001b[0m\n",
            "\u001b[0;31mNameError\u001b[0m: name 'cereals_df' is not defined"
          ]
        }
      ]
    }
  ]
}