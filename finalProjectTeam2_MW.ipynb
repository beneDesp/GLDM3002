{
  "nbformat": 4,
  "nbformat_minor": 0,
  "metadata": {
    "colab": {
      "provenance": [],
      "authorship_tag": "ABX9TyMFulQOgyI2zIjZ2CWZb/9P",
      "include_colab_link": true
    },
    "kernelspec": {
      "name": "python3",
      "display_name": "Python 3"
    },
    "language_info": {
      "name": "python"
    }
  },
  "cells": [
    {
      "cell_type": "markdown",
      "metadata": {
        "id": "view-in-github",
        "colab_type": "text"
      },
      "source": [
        "<a href=\"https://colab.research.google.com/github/beneDesp/GLDM3002/blob/finalProject/finalProjectTeam2_MW.ipynb\" target=\"_parent\"><img src=\"https://colab.research.google.com/assets/colab-badge.svg\" alt=\"Open In Colab\"/></a>"
      ]
    },
    {
      "cell_type": "markdown",
      "source": [
        "# Part I\n"
      ],
      "metadata": {
        "id": "T61qnH8AUTrq"
      }
    },
    {
      "cell_type": "markdown",
      "source": [
        "### 1. Design your CRISP Model as shown in Figure 1:"
      ],
      "metadata": {
        "id": "_OTNeGpTYN8p"
      }
    },
    {
      "cell_type": "markdown",
      "source": [
        "### 2.  Split the data into training (50%), validation (30%), and test (20%)datasets."
      ],
      "metadata": {
        "id": "nP8qkGYmUsmP"
      }
    },
    {
      "cell_type": "markdown",
      "source": [
        "### 3.  Run a multiple linear regression with the outcome variable Price and predictor variables: Age_08_04, KM, Fuel_Type, HP, Automatic, Doors, Quarterly_Tax, Mfr_Guarantee, Guarantee_Period, Airco, Automatic_airco, CD_Player, Powered_Windows, Sport_Model, and Tow_Bar."
      ],
      "metadata": {
        "id": "3389ygPIWNOK"
      }
    },
    {
      "cell_type": "markdown",
      "source": [
        "### 4.  What appear to be the three or four most important car specifications for predicting the car’s price?"
      ],
      "metadata": {
        "id": "9p_4oezPXkpT"
      }
    },
    {
      "cell_type": "markdown",
      "source": [
        "### 5. Using metrics, you consider useful, assess the performance of the model in predicting price."
      ],
      "metadata": {
        "id": "3eQ8-MQjXuUC"
      }
    },
    {
      "cell_type": "markdown",
      "source": [
        "# Part II\n"
      ],
      "metadata": {
        "id": "FW1diwukUoWO"
      }
    },
    {
      "cell_type": "markdown",
      "source": [
        "### 1. Data Preprocessing. Split the data into training (60%), and validation (40%) datasets."
      ],
      "metadata": {
        "id": "S_Bj3BjuXLUm"
      }
    },
    {
      "cell_type": "markdown",
      "source": [
        "### 2. Run a full-grown regression tree (RT) with outcome variable Price and predictors Age_08_04, KM, Fuel_Type (first convert to dummies), HP, Automatic, Doors, Quarterly_Tax, Mfr_Guarantee, Guarantee_Period, Airco, Automatic_airco, CD_Player, Powered_Windows, Sport_Model, and Tow_Bar. Set random_state=1."
      ],
      "metadata": {
        "id": "02Tv-Vb-ZH-M"
      }
    },
    {
      "cell_type": "markdown",
      "source": [
        "### 3. Which appear to be the three or four most important car specifications for predicting the car’s price?"
      ],
      "metadata": {
        "id": "zpS8EleHZU0D"
      }
    },
    {
      "cell_type": "markdown",
      "source": [
        "### 4. Compare the prediction errors of the training and validation sets by examining their RMS error and by plotting the two boxplots. How does the predictive performance of the validation set compare to the training set? Why does this occur?"
      ],
      "metadata": {
        "id": "b-O4hlIVZbi2"
      }
    },
    {
      "cell_type": "markdown",
      "source": [
        "### 5. Predict the price, using the smaller RT of a used Toyota Corolla with the specifications listed in Table 1, see below."
      ],
      "metadata": {
        "id": "8KoXFADDZmKt"
      }
    }
  ]
}