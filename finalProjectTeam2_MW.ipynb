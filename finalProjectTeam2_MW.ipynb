{
  "nbformat": 4,
  "nbformat_minor": 0,
  "metadata": {
    "colab": {
      "provenance": [],
      "authorship_tag": "ABX9TyPdzU4yWwC8KDqoip502Vwn",
      "include_colab_link": true
    },
    "kernelspec": {
      "name": "python3",
      "display_name": "Python 3"
    },
    "language_info": {
      "name": "python"
    }
  },
  "cells": [
    {
      "cell_type": "markdown",
      "metadata": {
        "id": "view-in-github",
        "colab_type": "text"
      },
      "source": [
        "<a href=\"https://colab.research.google.com/github/beneDesp/GLDM3002/blob/finalProject/finalProjectTeam2_MW.ipynb\" target=\"_parent\"><img src=\"https://colab.research.google.com/assets/colab-badge.svg\" alt=\"Open In Colab\"/></a>"
      ]
    },
    {
      "cell_type": "markdown",
      "source": [
        "# Part I\n"
      ],
      "metadata": {
        "id": "T61qnH8AUTrq"
      }
    },
    {
      "cell_type": "markdown",
      "source": [
        "### 1. Design your CRISP Model as shown in Figure 1:"
      ],
      "metadata": {
        "id": "_OTNeGpTYN8p"
      }
    },
    {
      "cell_type": "code",
      "source": [
        "#Part I: Multiple Linear Regression\n",
        "#Business Understanding:\n",
        "\n",
        "#Objective: Predict the price of a used Toyota Corolla based on its specifications.\n",
        "#Data Understanding:\n",
        "\n",
        "#Dataset: ToyotaCorolla.csv\n",
        "#Attributes: Price, Age, Kilometers, HP, Fuel_Type, Automatic, Doors, Quarterly_Tax, Mfr_Guarantee, Guarantee_Period, Airco, Automatic_airco, CD_Player, Powered_Windows, Sport_Model, Tow_Bar, etc.\n",
        "#Data Preparation:\n",
        "\n",
        "#Load the data and inspect it.\n",
        "#Clean the data by handling missing values, outliers, and data types.\n",
        "#Split the data into training (50%), validation (30%), and test (20%) datasets.\n",
        "#Modeling:\n",
        "\n",
        "#Run a multiple linear regression with the specified predictor variables.\n",
        "#Identify the most important car specifications for predicting the car's price.\n",
        "#Evaluation:\n",
        "\n",
        "#Assess the model's performance using appropriate metrics (e.g., RMSE, R-squared).\n",
        "#Identify the three or four most important car specifications for predicting the price.\n",
        "#Part II: Regression Trees\n",
        "#Business Understanding:\n",
        "\n",
        "#Objective: Predict the price of a used Toyota Corolla based on its specifications using regression trees.\n",
        "#Data Understanding:\n",
        "\n",
        "#Dataset: ToyotaCorolla.csv\n",
        "#Data Preparation:\n",
        "\n",
        "#Split the data into training (60%) and validation (40%) datasets.\n",
        "#Convert categorical variables (e.g., Fuel_Type) to dummy variables.\n",
        "#Modeling:\n",
        "\n",
        "#Run a full-grown regression tree with the specified predictor variables.\n",
        "#Set random_state=1.\n",
        "#Evaluation:\n",
        "\n",
        "#Identify the most important car specifications for predicting the car's price.\n",
        "#Compare the prediction errors of the training and validation sets by examining their RMSE and boxplots.\n",
        "#Predict the price of a Toyota Corolla with given specifications."
      ],
      "metadata": {
        "id": "5qiw2kqL3NKP"
      },
      "execution_count": null,
      "outputs": []
    },
    {
      "cell_type": "markdown",
      "source": [
        "### 2.  Split the data into training (50%), validation (30%), and test (20%)datasets."
      ],
      "metadata": {
        "id": "nP8qkGYmUsmP"
      }
    },
    {
      "cell_type": "code",
      "source": [
        "#run cell with next 2 lines uncommented and use \"Choose Files\" GUI to load ToyotaCorolla.xlsx\n",
        "#from google.colab import files\n",
        "#uploaded = files.upload()"
      ],
      "metadata": {
        "id": "3D9E6x8biq_e"
      },
      "execution_count": 26,
      "outputs": []
    },
    {
      "cell_type": "code",
      "source": [
        "import pandas as pd\n",
        "\n",
        "corolla = pd.read_excel(\"ToyotaCorolla.xlsx\", sheet_name=\"data\")\n",
        "print(corolla.shape)\n",
        "\n",
        "# Drop any rows with missing values (if any)\n",
        "corolla = corolla.dropna()\n",
        "print(corolla.shape)"
      ],
      "metadata": {
        "colab": {
          "base_uri": "https://localhost:8080/"
        },
        "id": "wAVgYdcfkqch",
        "outputId": "e72d5b67-3c6a-4e3f-fd60-7daee3b00032"
      },
      "execution_count": 27,
      "outputs": [
        {
          "output_type": "stream",
          "name": "stdout",
          "text": [
            "(1436, 39)\n",
            "(1436, 39)\n"
          ]
        }
      ]
    },
    {
      "cell_type": "code",
      "source": [
        "# prior to splitting data we perfrom some data preparation steps that propagate through the training, validation, and test data sets\n",
        "# and save time performing each step on those data sets individually in subsequent tasks\n",
        "\n",
        "#the first of thes stepse is lmiting the columns of data to those fields listed in question 3\n",
        "\n",
        "predictors = [\"Age_08_04\", \"KM\", \"Fuel_Type\", \"HP\", \"Automatic\", \"Doors\", \"Quarterly_Tax\", \"Mfr_Guarantee\",\n",
        "\"Guarantee_Period\", \"Airco\", \"Automatic_airco\", \"CD_Player\", \"Powered_Windows\",\n",
        "\"Sport_Model\", \"Tow_Bar\"]\n",
        "outcome = [\"Price\"]\n",
        "\n",
        "corrola_data = corolla[predictors + outcome].copy()\n",
        "corrola_data.head()"
      ],
      "metadata": {
        "colab": {
          "base_uri": "https://localhost:8080/",
          "height": 206
        },
        "id": "1X6n7bKGniNY",
        "outputId": "0e6e0350-9d37-4813-b71b-4976be91be6f"
      },
      "execution_count": 28,
      "outputs": [
        {
          "output_type": "execute_result",
          "data": {
            "text/plain": [
              "   Age_08_04     KM Fuel_Type  HP  Automatic  Doors  Quarterly_Tax  \\\n",
              "0         23  46986    Diesel  90          0      3            210   \n",
              "1         23  72937    Diesel  90          0      3            210   \n",
              "2         24  41711    Diesel  90          0      3            210   \n",
              "3         26  48000    Diesel  90          0      3            210   \n",
              "4         30  38500    Diesel  90          0      3            210   \n",
              "\n",
              "   Mfr_Guarantee  Guarantee_Period  Airco  Automatic_airco  CD_Player  \\\n",
              "0              0                 3      0                0          0   \n",
              "1              0                 3      1                0          1   \n",
              "2              1                 3      0                0          0   \n",
              "3              1                 3      0                0          0   \n",
              "4              1                 3      1                0          0   \n",
              "\n",
              "   Powered_Windows  Sport_Model  Tow_Bar  Price  \n",
              "0                1            0        0  13500  \n",
              "1                0            0        0  13750  \n",
              "2                0            0        0  13950  \n",
              "3                0            0        0  14950  \n",
              "4                1            0        0  13750  "
            ],
            "text/html": [
              "\n",
              "  <div id=\"df-922fafd9-f504-47e0-b0bc-333c09866eb8\" class=\"colab-df-container\">\n",
              "    <div>\n",
              "<style scoped>\n",
              "    .dataframe tbody tr th:only-of-type {\n",
              "        vertical-align: middle;\n",
              "    }\n",
              "\n",
              "    .dataframe tbody tr th {\n",
              "        vertical-align: top;\n",
              "    }\n",
              "\n",
              "    .dataframe thead th {\n",
              "        text-align: right;\n",
              "    }\n",
              "</style>\n",
              "<table border=\"1\" class=\"dataframe\">\n",
              "  <thead>\n",
              "    <tr style=\"text-align: right;\">\n",
              "      <th></th>\n",
              "      <th>Age_08_04</th>\n",
              "      <th>KM</th>\n",
              "      <th>Fuel_Type</th>\n",
              "      <th>HP</th>\n",
              "      <th>Automatic</th>\n",
              "      <th>Doors</th>\n",
              "      <th>Quarterly_Tax</th>\n",
              "      <th>Mfr_Guarantee</th>\n",
              "      <th>Guarantee_Period</th>\n",
              "      <th>Airco</th>\n",
              "      <th>Automatic_airco</th>\n",
              "      <th>CD_Player</th>\n",
              "      <th>Powered_Windows</th>\n",
              "      <th>Sport_Model</th>\n",
              "      <th>Tow_Bar</th>\n",
              "      <th>Price</th>\n",
              "    </tr>\n",
              "  </thead>\n",
              "  <tbody>\n",
              "    <tr>\n",
              "      <th>0</th>\n",
              "      <td>23</td>\n",
              "      <td>46986</td>\n",
              "      <td>Diesel</td>\n",
              "      <td>90</td>\n",
              "      <td>0</td>\n",
              "      <td>3</td>\n",
              "      <td>210</td>\n",
              "      <td>0</td>\n",
              "      <td>3</td>\n",
              "      <td>0</td>\n",
              "      <td>0</td>\n",
              "      <td>0</td>\n",
              "      <td>1</td>\n",
              "      <td>0</td>\n",
              "      <td>0</td>\n",
              "      <td>13500</td>\n",
              "    </tr>\n",
              "    <tr>\n",
              "      <th>1</th>\n",
              "      <td>23</td>\n",
              "      <td>72937</td>\n",
              "      <td>Diesel</td>\n",
              "      <td>90</td>\n",
              "      <td>0</td>\n",
              "      <td>3</td>\n",
              "      <td>210</td>\n",
              "      <td>0</td>\n",
              "      <td>3</td>\n",
              "      <td>1</td>\n",
              "      <td>0</td>\n",
              "      <td>1</td>\n",
              "      <td>0</td>\n",
              "      <td>0</td>\n",
              "      <td>0</td>\n",
              "      <td>13750</td>\n",
              "    </tr>\n",
              "    <tr>\n",
              "      <th>2</th>\n",
              "      <td>24</td>\n",
              "      <td>41711</td>\n",
              "      <td>Diesel</td>\n",
              "      <td>90</td>\n",
              "      <td>0</td>\n",
              "      <td>3</td>\n",
              "      <td>210</td>\n",
              "      <td>1</td>\n",
              "      <td>3</td>\n",
              "      <td>0</td>\n",
              "      <td>0</td>\n",
              "      <td>0</td>\n",
              "      <td>0</td>\n",
              "      <td>0</td>\n",
              "      <td>0</td>\n",
              "      <td>13950</td>\n",
              "    </tr>\n",
              "    <tr>\n",
              "      <th>3</th>\n",
              "      <td>26</td>\n",
              "      <td>48000</td>\n",
              "      <td>Diesel</td>\n",
              "      <td>90</td>\n",
              "      <td>0</td>\n",
              "      <td>3</td>\n",
              "      <td>210</td>\n",
              "      <td>1</td>\n",
              "      <td>3</td>\n",
              "      <td>0</td>\n",
              "      <td>0</td>\n",
              "      <td>0</td>\n",
              "      <td>0</td>\n",
              "      <td>0</td>\n",
              "      <td>0</td>\n",
              "      <td>14950</td>\n",
              "    </tr>\n",
              "    <tr>\n",
              "      <th>4</th>\n",
              "      <td>30</td>\n",
              "      <td>38500</td>\n",
              "      <td>Diesel</td>\n",
              "      <td>90</td>\n",
              "      <td>0</td>\n",
              "      <td>3</td>\n",
              "      <td>210</td>\n",
              "      <td>1</td>\n",
              "      <td>3</td>\n",
              "      <td>1</td>\n",
              "      <td>0</td>\n",
              "      <td>0</td>\n",
              "      <td>1</td>\n",
              "      <td>0</td>\n",
              "      <td>0</td>\n",
              "      <td>13750</td>\n",
              "    </tr>\n",
              "  </tbody>\n",
              "</table>\n",
              "</div>\n",
              "    <div class=\"colab-df-buttons\">\n",
              "\n",
              "  <div class=\"colab-df-container\">\n",
              "    <button class=\"colab-df-convert\" onclick=\"convertToInteractive('df-922fafd9-f504-47e0-b0bc-333c09866eb8')\"\n",
              "            title=\"Convert this dataframe to an interactive table.\"\n",
              "            style=\"display:none;\">\n",
              "\n",
              "  <svg xmlns=\"http://www.w3.org/2000/svg\" height=\"24px\" viewBox=\"0 -960 960 960\">\n",
              "    <path d=\"M120-120v-720h720v720H120Zm60-500h600v-160H180v160Zm220 220h160v-160H400v160Zm0 220h160v-160H400v160ZM180-400h160v-160H180v160Zm440 0h160v-160H620v160ZM180-180h160v-160H180v160Zm440 0h160v-160H620v160Z\"/>\n",
              "  </svg>\n",
              "    </button>\n",
              "\n",
              "  <style>\n",
              "    .colab-df-container {\n",
              "      display:flex;\n",
              "      gap: 12px;\n",
              "    }\n",
              "\n",
              "    .colab-df-convert {\n",
              "      background-color: #E8F0FE;\n",
              "      border: none;\n",
              "      border-radius: 50%;\n",
              "      cursor: pointer;\n",
              "      display: none;\n",
              "      fill: #1967D2;\n",
              "      height: 32px;\n",
              "      padding: 0 0 0 0;\n",
              "      width: 32px;\n",
              "    }\n",
              "\n",
              "    .colab-df-convert:hover {\n",
              "      background-color: #E2EBFA;\n",
              "      box-shadow: 0px 1px 2px rgba(60, 64, 67, 0.3), 0px 1px 3px 1px rgba(60, 64, 67, 0.15);\n",
              "      fill: #174EA6;\n",
              "    }\n",
              "\n",
              "    .colab-df-buttons div {\n",
              "      margin-bottom: 4px;\n",
              "    }\n",
              "\n",
              "    [theme=dark] .colab-df-convert {\n",
              "      background-color: #3B4455;\n",
              "      fill: #D2E3FC;\n",
              "    }\n",
              "\n",
              "    [theme=dark] .colab-df-convert:hover {\n",
              "      background-color: #434B5C;\n",
              "      box-shadow: 0px 1px 3px 1px rgba(0, 0, 0, 0.15);\n",
              "      filter: drop-shadow(0px 1px 2px rgba(0, 0, 0, 0.3));\n",
              "      fill: #FFFFFF;\n",
              "    }\n",
              "  </style>\n",
              "\n",
              "    <script>\n",
              "      const buttonEl =\n",
              "        document.querySelector('#df-922fafd9-f504-47e0-b0bc-333c09866eb8 button.colab-df-convert');\n",
              "      buttonEl.style.display =\n",
              "        google.colab.kernel.accessAllowed ? 'block' : 'none';\n",
              "\n",
              "      async function convertToInteractive(key) {\n",
              "        const element = document.querySelector('#df-922fafd9-f504-47e0-b0bc-333c09866eb8');\n",
              "        const dataTable =\n",
              "          await google.colab.kernel.invokeFunction('convertToInteractive',\n",
              "                                                    [key], {});\n",
              "        if (!dataTable) return;\n",
              "\n",
              "        const docLinkHtml = 'Like what you see? Visit the ' +\n",
              "          '<a target=\"_blank\" href=https://colab.research.google.com/notebooks/data_table.ipynb>data table notebook</a>'\n",
              "          + ' to learn more about interactive tables.';\n",
              "        element.innerHTML = '';\n",
              "        dataTable['output_type'] = 'display_data';\n",
              "        await google.colab.output.renderOutput(dataTable, element);\n",
              "        const docLink = document.createElement('div');\n",
              "        docLink.innerHTML = docLinkHtml;\n",
              "        element.appendChild(docLink);\n",
              "      }\n",
              "    </script>\n",
              "  </div>\n",
              "\n",
              "\n",
              "<div id=\"df-4f93ca3b-c937-4988-bdd4-c960ade648a5\">\n",
              "  <button class=\"colab-df-quickchart\" onclick=\"quickchart('df-4f93ca3b-c937-4988-bdd4-c960ade648a5')\"\n",
              "            title=\"Suggest charts\"\n",
              "            style=\"display:none;\">\n",
              "\n",
              "<svg xmlns=\"http://www.w3.org/2000/svg\" height=\"24px\"viewBox=\"0 0 24 24\"\n",
              "     width=\"24px\">\n",
              "    <g>\n",
              "        <path d=\"M19 3H5c-1.1 0-2 .9-2 2v14c0 1.1.9 2 2 2h14c1.1 0 2-.9 2-2V5c0-1.1-.9-2-2-2zM9 17H7v-7h2v7zm4 0h-2V7h2v10zm4 0h-2v-4h2v4z\"/>\n",
              "    </g>\n",
              "</svg>\n",
              "  </button>\n",
              "\n",
              "<style>\n",
              "  .colab-df-quickchart {\n",
              "      --bg-color: #E8F0FE;\n",
              "      --fill-color: #1967D2;\n",
              "      --hover-bg-color: #E2EBFA;\n",
              "      --hover-fill-color: #174EA6;\n",
              "      --disabled-fill-color: #AAA;\n",
              "      --disabled-bg-color: #DDD;\n",
              "  }\n",
              "\n",
              "  [theme=dark] .colab-df-quickchart {\n",
              "      --bg-color: #3B4455;\n",
              "      --fill-color: #D2E3FC;\n",
              "      --hover-bg-color: #434B5C;\n",
              "      --hover-fill-color: #FFFFFF;\n",
              "      --disabled-bg-color: #3B4455;\n",
              "      --disabled-fill-color: #666;\n",
              "  }\n",
              "\n",
              "  .colab-df-quickchart {\n",
              "    background-color: var(--bg-color);\n",
              "    border: none;\n",
              "    border-radius: 50%;\n",
              "    cursor: pointer;\n",
              "    display: none;\n",
              "    fill: var(--fill-color);\n",
              "    height: 32px;\n",
              "    padding: 0;\n",
              "    width: 32px;\n",
              "  }\n",
              "\n",
              "  .colab-df-quickchart:hover {\n",
              "    background-color: var(--hover-bg-color);\n",
              "    box-shadow: 0 1px 2px rgba(60, 64, 67, 0.3), 0 1px 3px 1px rgba(60, 64, 67, 0.15);\n",
              "    fill: var(--button-hover-fill-color);\n",
              "  }\n",
              "\n",
              "  .colab-df-quickchart-complete:disabled,\n",
              "  .colab-df-quickchart-complete:disabled:hover {\n",
              "    background-color: var(--disabled-bg-color);\n",
              "    fill: var(--disabled-fill-color);\n",
              "    box-shadow: none;\n",
              "  }\n",
              "\n",
              "  .colab-df-spinner {\n",
              "    border: 2px solid var(--fill-color);\n",
              "    border-color: transparent;\n",
              "    border-bottom-color: var(--fill-color);\n",
              "    animation:\n",
              "      spin 1s steps(1) infinite;\n",
              "  }\n",
              "\n",
              "  @keyframes spin {\n",
              "    0% {\n",
              "      border-color: transparent;\n",
              "      border-bottom-color: var(--fill-color);\n",
              "      border-left-color: var(--fill-color);\n",
              "    }\n",
              "    20% {\n",
              "      border-color: transparent;\n",
              "      border-left-color: var(--fill-color);\n",
              "      border-top-color: var(--fill-color);\n",
              "    }\n",
              "    30% {\n",
              "      border-color: transparent;\n",
              "      border-left-color: var(--fill-color);\n",
              "      border-top-color: var(--fill-color);\n",
              "      border-right-color: var(--fill-color);\n",
              "    }\n",
              "    40% {\n",
              "      border-color: transparent;\n",
              "      border-right-color: var(--fill-color);\n",
              "      border-top-color: var(--fill-color);\n",
              "    }\n",
              "    60% {\n",
              "      border-color: transparent;\n",
              "      border-right-color: var(--fill-color);\n",
              "    }\n",
              "    80% {\n",
              "      border-color: transparent;\n",
              "      border-right-color: var(--fill-color);\n",
              "      border-bottom-color: var(--fill-color);\n",
              "    }\n",
              "    90% {\n",
              "      border-color: transparent;\n",
              "      border-bottom-color: var(--fill-color);\n",
              "    }\n",
              "  }\n",
              "</style>\n",
              "\n",
              "  <script>\n",
              "    async function quickchart(key) {\n",
              "      const quickchartButtonEl =\n",
              "        document.querySelector('#' + key + ' button');\n",
              "      quickchartButtonEl.disabled = true;  // To prevent multiple clicks.\n",
              "      quickchartButtonEl.classList.add('colab-df-spinner');\n",
              "      try {\n",
              "        const charts = await google.colab.kernel.invokeFunction(\n",
              "            'suggestCharts', [key], {});\n",
              "      } catch (error) {\n",
              "        console.error('Error during call to suggestCharts:', error);\n",
              "      }\n",
              "      quickchartButtonEl.classList.remove('colab-df-spinner');\n",
              "      quickchartButtonEl.classList.add('colab-df-quickchart-complete');\n",
              "    }\n",
              "    (() => {\n",
              "      let quickchartButtonEl =\n",
              "        document.querySelector('#df-4f93ca3b-c937-4988-bdd4-c960ade648a5 button');\n",
              "      quickchartButtonEl.style.display =\n",
              "        google.colab.kernel.accessAllowed ? 'block' : 'none';\n",
              "    })();\n",
              "  </script>\n",
              "</div>\n",
              "\n",
              "    </div>\n",
              "  </div>\n"
            ],
            "application/vnd.google.colaboratory.intrinsic+json": {
              "type": "dataframe",
              "variable_name": "corrola_data",
              "summary": "{\n  \"name\": \"corrola_data\",\n  \"rows\": 1436,\n  \"fields\": [\n    {\n      \"column\": \"Age_08_04\",\n      \"properties\": {\n        \"dtype\": \"number\",\n        \"std\": 18,\n        \"min\": 1,\n        \"max\": 80,\n        \"num_unique_values\": 77,\n        \"samples\": [\n          32,\n          39,\n          29\n        ],\n        \"semantic_type\": \"\",\n        \"description\": \"\"\n      }\n    },\n    {\n      \"column\": \"KM\",\n      \"properties\": {\n        \"dtype\": \"number\",\n        \"std\": 37506,\n        \"min\": 1,\n        \"max\": 243000,\n        \"num_unique_values\": 1263,\n        \"samples\": [\n          57829,\n          51000,\n          34882\n        ],\n        \"semantic_type\": \"\",\n        \"description\": \"\"\n      }\n    },\n    {\n      \"column\": \"Fuel_Type\",\n      \"properties\": {\n        \"dtype\": \"category\",\n        \"num_unique_values\": 3,\n        \"samples\": [\n          \"Diesel\",\n          \"Petrol\",\n          \"CNG\"\n        ],\n        \"semantic_type\": \"\",\n        \"description\": \"\"\n      }\n    },\n    {\n      \"column\": \"HP\",\n      \"properties\": {\n        \"dtype\": \"number\",\n        \"std\": 14,\n        \"min\": 69,\n        \"max\": 192,\n        \"num_unique_values\": 12,\n        \"samples\": [\n          107,\n          72,\n          90\n        ],\n        \"semantic_type\": \"\",\n        \"description\": \"\"\n      }\n    },\n    {\n      \"column\": \"Automatic\",\n      \"properties\": {\n        \"dtype\": \"number\",\n        \"std\": 0,\n        \"min\": 0,\n        \"max\": 1,\n        \"num_unique_values\": 2,\n        \"samples\": [\n          1,\n          0\n        ],\n        \"semantic_type\": \"\",\n        \"description\": \"\"\n      }\n    },\n    {\n      \"column\": \"Doors\",\n      \"properties\": {\n        \"dtype\": \"number\",\n        \"std\": 0,\n        \"min\": 2,\n        \"max\": 5,\n        \"num_unique_values\": 4,\n        \"samples\": [\n          5,\n          2\n        ],\n        \"semantic_type\": \"\",\n        \"description\": \"\"\n      }\n    },\n    {\n      \"column\": \"Quarterly_Tax\",\n      \"properties\": {\n        \"dtype\": \"number\",\n        \"std\": 41,\n        \"min\": 19,\n        \"max\": 283,\n        \"num_unique_values\": 13,\n        \"samples\": [\n          72,\n          197\n        ],\n        \"semantic_type\": \"\",\n        \"description\": \"\"\n      }\n    },\n    {\n      \"column\": \"Mfr_Guarantee\",\n      \"properties\": {\n        \"dtype\": \"number\",\n        \"std\": 0,\n        \"min\": 0,\n        \"max\": 1,\n        \"num_unique_values\": 2,\n        \"samples\": [\n          1,\n          0\n        ],\n        \"semantic_type\": \"\",\n        \"description\": \"\"\n      }\n    },\n    {\n      \"column\": \"Guarantee_Period\",\n      \"properties\": {\n        \"dtype\": \"number\",\n        \"std\": 3,\n        \"min\": 3,\n        \"max\": 36,\n        \"num_unique_values\": 9,\n        \"samples\": [\n          36,\n          12\n        ],\n        \"semantic_type\": \"\",\n        \"description\": \"\"\n      }\n    },\n    {\n      \"column\": \"Airco\",\n      \"properties\": {\n        \"dtype\": \"number\",\n        \"std\": 0,\n        \"min\": 0,\n        \"max\": 1,\n        \"num_unique_values\": 2,\n        \"samples\": [\n          1,\n          0\n        ],\n        \"semantic_type\": \"\",\n        \"description\": \"\"\n      }\n    },\n    {\n      \"column\": \"Automatic_airco\",\n      \"properties\": {\n        \"dtype\": \"number\",\n        \"std\": 0,\n        \"min\": 0,\n        \"max\": 1,\n        \"num_unique_values\": 2,\n        \"samples\": [\n          1,\n          0\n        ],\n        \"semantic_type\": \"\",\n        \"description\": \"\"\n      }\n    },\n    {\n      \"column\": \"CD_Player\",\n      \"properties\": {\n        \"dtype\": \"number\",\n        \"std\": 0,\n        \"min\": 0,\n        \"max\": 1,\n        \"num_unique_values\": 2,\n        \"samples\": [\n          1,\n          0\n        ],\n        \"semantic_type\": \"\",\n        \"description\": \"\"\n      }\n    },\n    {\n      \"column\": \"Powered_Windows\",\n      \"properties\": {\n        \"dtype\": \"number\",\n        \"std\": 0,\n        \"min\": 0,\n        \"max\": 1,\n        \"num_unique_values\": 2,\n        \"samples\": [\n          0,\n          1\n        ],\n        \"semantic_type\": \"\",\n        \"description\": \"\"\n      }\n    },\n    {\n      \"column\": \"Sport_Model\",\n      \"properties\": {\n        \"dtype\": \"number\",\n        \"std\": 0,\n        \"min\": 0,\n        \"max\": 1,\n        \"num_unique_values\": 2,\n        \"samples\": [\n          1,\n          0\n        ],\n        \"semantic_type\": \"\",\n        \"description\": \"\"\n      }\n    },\n    {\n      \"column\": \"Tow_Bar\",\n      \"properties\": {\n        \"dtype\": \"number\",\n        \"std\": 0,\n        \"min\": 0,\n        \"max\": 1,\n        \"num_unique_values\": 2,\n        \"samples\": [\n          1,\n          0\n        ],\n        \"semantic_type\": \"\",\n        \"description\": \"\"\n      }\n    },\n    {\n      \"column\": \"Price\",\n      \"properties\": {\n        \"dtype\": \"number\",\n        \"std\": 3626,\n        \"min\": 4350,\n        \"max\": 32500,\n        \"num_unique_values\": 236,\n        \"samples\": [\n          17795,\n          10350\n        ],\n        \"semantic_type\": \"\",\n        \"description\": \"\"\n      }\n    }\n  ]\n}"
            }
          },
          "metadata": {},
          "execution_count": 28
        }
      ]
    },
    {
      "cell_type": "code",
      "source": [
        "#next we convert the column \"Fuel_Type\" to dummy variables to accomodate data building in task 3 and Part II\n",
        "\n",
        "corrola_enc = corrola_data.copy()\n",
        "corrola_enc = pd.get_dummies(corrola_enc, columns=[\"Fuel_Type\"], dtype = \"int\", drop_first=True)\n",
        "corrola_enc.head()"
      ],
      "metadata": {
        "colab": {
          "base_uri": "https://localhost:8080/",
          "height": 206
        },
        "id": "BIESMZBQop5v",
        "outputId": "72e38a7a-a7cc-4af3-e2c8-7d265eed67e5"
      },
      "execution_count": 29,
      "outputs": [
        {
          "output_type": "execute_result",
          "data": {
            "text/plain": [
              "   Age_08_04     KM  HP  Automatic  Doors  Quarterly_Tax  Mfr_Guarantee  \\\n",
              "0         23  46986  90          0      3            210              0   \n",
              "1         23  72937  90          0      3            210              0   \n",
              "2         24  41711  90          0      3            210              1   \n",
              "3         26  48000  90          0      3            210              1   \n",
              "4         30  38500  90          0      3            210              1   \n",
              "\n",
              "   Guarantee_Period  Airco  Automatic_airco  CD_Player  Powered_Windows  \\\n",
              "0                 3      0                0          0                1   \n",
              "1                 3      1                0          1                0   \n",
              "2                 3      0                0          0                0   \n",
              "3                 3      0                0          0                0   \n",
              "4                 3      1                0          0                1   \n",
              "\n",
              "   Sport_Model  Tow_Bar  Price  Fuel_Type_Diesel  Fuel_Type_Petrol  \n",
              "0            0        0  13500                 1                 0  \n",
              "1            0        0  13750                 1                 0  \n",
              "2            0        0  13950                 1                 0  \n",
              "3            0        0  14950                 1                 0  \n",
              "4            0        0  13750                 1                 0  "
            ],
            "text/html": [
              "\n",
              "  <div id=\"df-7a205f7e-c7d1-4afc-8d74-e1536fc2d812\" class=\"colab-df-container\">\n",
              "    <div>\n",
              "<style scoped>\n",
              "    .dataframe tbody tr th:only-of-type {\n",
              "        vertical-align: middle;\n",
              "    }\n",
              "\n",
              "    .dataframe tbody tr th {\n",
              "        vertical-align: top;\n",
              "    }\n",
              "\n",
              "    .dataframe thead th {\n",
              "        text-align: right;\n",
              "    }\n",
              "</style>\n",
              "<table border=\"1\" class=\"dataframe\">\n",
              "  <thead>\n",
              "    <tr style=\"text-align: right;\">\n",
              "      <th></th>\n",
              "      <th>Age_08_04</th>\n",
              "      <th>KM</th>\n",
              "      <th>HP</th>\n",
              "      <th>Automatic</th>\n",
              "      <th>Doors</th>\n",
              "      <th>Quarterly_Tax</th>\n",
              "      <th>Mfr_Guarantee</th>\n",
              "      <th>Guarantee_Period</th>\n",
              "      <th>Airco</th>\n",
              "      <th>Automatic_airco</th>\n",
              "      <th>CD_Player</th>\n",
              "      <th>Powered_Windows</th>\n",
              "      <th>Sport_Model</th>\n",
              "      <th>Tow_Bar</th>\n",
              "      <th>Price</th>\n",
              "      <th>Fuel_Type_Diesel</th>\n",
              "      <th>Fuel_Type_Petrol</th>\n",
              "    </tr>\n",
              "  </thead>\n",
              "  <tbody>\n",
              "    <tr>\n",
              "      <th>0</th>\n",
              "      <td>23</td>\n",
              "      <td>46986</td>\n",
              "      <td>90</td>\n",
              "      <td>0</td>\n",
              "      <td>3</td>\n",
              "      <td>210</td>\n",
              "      <td>0</td>\n",
              "      <td>3</td>\n",
              "      <td>0</td>\n",
              "      <td>0</td>\n",
              "      <td>0</td>\n",
              "      <td>1</td>\n",
              "      <td>0</td>\n",
              "      <td>0</td>\n",
              "      <td>13500</td>\n",
              "      <td>1</td>\n",
              "      <td>0</td>\n",
              "    </tr>\n",
              "    <tr>\n",
              "      <th>1</th>\n",
              "      <td>23</td>\n",
              "      <td>72937</td>\n",
              "      <td>90</td>\n",
              "      <td>0</td>\n",
              "      <td>3</td>\n",
              "      <td>210</td>\n",
              "      <td>0</td>\n",
              "      <td>3</td>\n",
              "      <td>1</td>\n",
              "      <td>0</td>\n",
              "      <td>1</td>\n",
              "      <td>0</td>\n",
              "      <td>0</td>\n",
              "      <td>0</td>\n",
              "      <td>13750</td>\n",
              "      <td>1</td>\n",
              "      <td>0</td>\n",
              "    </tr>\n",
              "    <tr>\n",
              "      <th>2</th>\n",
              "      <td>24</td>\n",
              "      <td>41711</td>\n",
              "      <td>90</td>\n",
              "      <td>0</td>\n",
              "      <td>3</td>\n",
              "      <td>210</td>\n",
              "      <td>1</td>\n",
              "      <td>3</td>\n",
              "      <td>0</td>\n",
              "      <td>0</td>\n",
              "      <td>0</td>\n",
              "      <td>0</td>\n",
              "      <td>0</td>\n",
              "      <td>0</td>\n",
              "      <td>13950</td>\n",
              "      <td>1</td>\n",
              "      <td>0</td>\n",
              "    </tr>\n",
              "    <tr>\n",
              "      <th>3</th>\n",
              "      <td>26</td>\n",
              "      <td>48000</td>\n",
              "      <td>90</td>\n",
              "      <td>0</td>\n",
              "      <td>3</td>\n",
              "      <td>210</td>\n",
              "      <td>1</td>\n",
              "      <td>3</td>\n",
              "      <td>0</td>\n",
              "      <td>0</td>\n",
              "      <td>0</td>\n",
              "      <td>0</td>\n",
              "      <td>0</td>\n",
              "      <td>0</td>\n",
              "      <td>14950</td>\n",
              "      <td>1</td>\n",
              "      <td>0</td>\n",
              "    </tr>\n",
              "    <tr>\n",
              "      <th>4</th>\n",
              "      <td>30</td>\n",
              "      <td>38500</td>\n",
              "      <td>90</td>\n",
              "      <td>0</td>\n",
              "      <td>3</td>\n",
              "      <td>210</td>\n",
              "      <td>1</td>\n",
              "      <td>3</td>\n",
              "      <td>1</td>\n",
              "      <td>0</td>\n",
              "      <td>0</td>\n",
              "      <td>1</td>\n",
              "      <td>0</td>\n",
              "      <td>0</td>\n",
              "      <td>13750</td>\n",
              "      <td>1</td>\n",
              "      <td>0</td>\n",
              "    </tr>\n",
              "  </tbody>\n",
              "</table>\n",
              "</div>\n",
              "    <div class=\"colab-df-buttons\">\n",
              "\n",
              "  <div class=\"colab-df-container\">\n",
              "    <button class=\"colab-df-convert\" onclick=\"convertToInteractive('df-7a205f7e-c7d1-4afc-8d74-e1536fc2d812')\"\n",
              "            title=\"Convert this dataframe to an interactive table.\"\n",
              "            style=\"display:none;\">\n",
              "\n",
              "  <svg xmlns=\"http://www.w3.org/2000/svg\" height=\"24px\" viewBox=\"0 -960 960 960\">\n",
              "    <path d=\"M120-120v-720h720v720H120Zm60-500h600v-160H180v160Zm220 220h160v-160H400v160Zm0 220h160v-160H400v160ZM180-400h160v-160H180v160Zm440 0h160v-160H620v160ZM180-180h160v-160H180v160Zm440 0h160v-160H620v160Z\"/>\n",
              "  </svg>\n",
              "    </button>\n",
              "\n",
              "  <style>\n",
              "    .colab-df-container {\n",
              "      display:flex;\n",
              "      gap: 12px;\n",
              "    }\n",
              "\n",
              "    .colab-df-convert {\n",
              "      background-color: #E8F0FE;\n",
              "      border: none;\n",
              "      border-radius: 50%;\n",
              "      cursor: pointer;\n",
              "      display: none;\n",
              "      fill: #1967D2;\n",
              "      height: 32px;\n",
              "      padding: 0 0 0 0;\n",
              "      width: 32px;\n",
              "    }\n",
              "\n",
              "    .colab-df-convert:hover {\n",
              "      background-color: #E2EBFA;\n",
              "      box-shadow: 0px 1px 2px rgba(60, 64, 67, 0.3), 0px 1px 3px 1px rgba(60, 64, 67, 0.15);\n",
              "      fill: #174EA6;\n",
              "    }\n",
              "\n",
              "    .colab-df-buttons div {\n",
              "      margin-bottom: 4px;\n",
              "    }\n",
              "\n",
              "    [theme=dark] .colab-df-convert {\n",
              "      background-color: #3B4455;\n",
              "      fill: #D2E3FC;\n",
              "    }\n",
              "\n",
              "    [theme=dark] .colab-df-convert:hover {\n",
              "      background-color: #434B5C;\n",
              "      box-shadow: 0px 1px 3px 1px rgba(0, 0, 0, 0.15);\n",
              "      filter: drop-shadow(0px 1px 2px rgba(0, 0, 0, 0.3));\n",
              "      fill: #FFFFFF;\n",
              "    }\n",
              "  </style>\n",
              "\n",
              "    <script>\n",
              "      const buttonEl =\n",
              "        document.querySelector('#df-7a205f7e-c7d1-4afc-8d74-e1536fc2d812 button.colab-df-convert');\n",
              "      buttonEl.style.display =\n",
              "        google.colab.kernel.accessAllowed ? 'block' : 'none';\n",
              "\n",
              "      async function convertToInteractive(key) {\n",
              "        const element = document.querySelector('#df-7a205f7e-c7d1-4afc-8d74-e1536fc2d812');\n",
              "        const dataTable =\n",
              "          await google.colab.kernel.invokeFunction('convertToInteractive',\n",
              "                                                    [key], {});\n",
              "        if (!dataTable) return;\n",
              "\n",
              "        const docLinkHtml = 'Like what you see? Visit the ' +\n",
              "          '<a target=\"_blank\" href=https://colab.research.google.com/notebooks/data_table.ipynb>data table notebook</a>'\n",
              "          + ' to learn more about interactive tables.';\n",
              "        element.innerHTML = '';\n",
              "        dataTable['output_type'] = 'display_data';\n",
              "        await google.colab.output.renderOutput(dataTable, element);\n",
              "        const docLink = document.createElement('div');\n",
              "        docLink.innerHTML = docLinkHtml;\n",
              "        element.appendChild(docLink);\n",
              "      }\n",
              "    </script>\n",
              "  </div>\n",
              "\n",
              "\n",
              "<div id=\"df-bb91987a-7c2b-4b46-8dcc-4f662413623d\">\n",
              "  <button class=\"colab-df-quickchart\" onclick=\"quickchart('df-bb91987a-7c2b-4b46-8dcc-4f662413623d')\"\n",
              "            title=\"Suggest charts\"\n",
              "            style=\"display:none;\">\n",
              "\n",
              "<svg xmlns=\"http://www.w3.org/2000/svg\" height=\"24px\"viewBox=\"0 0 24 24\"\n",
              "     width=\"24px\">\n",
              "    <g>\n",
              "        <path d=\"M19 3H5c-1.1 0-2 .9-2 2v14c0 1.1.9 2 2 2h14c1.1 0 2-.9 2-2V5c0-1.1-.9-2-2-2zM9 17H7v-7h2v7zm4 0h-2V7h2v10zm4 0h-2v-4h2v4z\"/>\n",
              "    </g>\n",
              "</svg>\n",
              "  </button>\n",
              "\n",
              "<style>\n",
              "  .colab-df-quickchart {\n",
              "      --bg-color: #E8F0FE;\n",
              "      --fill-color: #1967D2;\n",
              "      --hover-bg-color: #E2EBFA;\n",
              "      --hover-fill-color: #174EA6;\n",
              "      --disabled-fill-color: #AAA;\n",
              "      --disabled-bg-color: #DDD;\n",
              "  }\n",
              "\n",
              "  [theme=dark] .colab-df-quickchart {\n",
              "      --bg-color: #3B4455;\n",
              "      --fill-color: #D2E3FC;\n",
              "      --hover-bg-color: #434B5C;\n",
              "      --hover-fill-color: #FFFFFF;\n",
              "      --disabled-bg-color: #3B4455;\n",
              "      --disabled-fill-color: #666;\n",
              "  }\n",
              "\n",
              "  .colab-df-quickchart {\n",
              "    background-color: var(--bg-color);\n",
              "    border: none;\n",
              "    border-radius: 50%;\n",
              "    cursor: pointer;\n",
              "    display: none;\n",
              "    fill: var(--fill-color);\n",
              "    height: 32px;\n",
              "    padding: 0;\n",
              "    width: 32px;\n",
              "  }\n",
              "\n",
              "  .colab-df-quickchart:hover {\n",
              "    background-color: var(--hover-bg-color);\n",
              "    box-shadow: 0 1px 2px rgba(60, 64, 67, 0.3), 0 1px 3px 1px rgba(60, 64, 67, 0.15);\n",
              "    fill: var(--button-hover-fill-color);\n",
              "  }\n",
              "\n",
              "  .colab-df-quickchart-complete:disabled,\n",
              "  .colab-df-quickchart-complete:disabled:hover {\n",
              "    background-color: var(--disabled-bg-color);\n",
              "    fill: var(--disabled-fill-color);\n",
              "    box-shadow: none;\n",
              "  }\n",
              "\n",
              "  .colab-df-spinner {\n",
              "    border: 2px solid var(--fill-color);\n",
              "    border-color: transparent;\n",
              "    border-bottom-color: var(--fill-color);\n",
              "    animation:\n",
              "      spin 1s steps(1) infinite;\n",
              "  }\n",
              "\n",
              "  @keyframes spin {\n",
              "    0% {\n",
              "      border-color: transparent;\n",
              "      border-bottom-color: var(--fill-color);\n",
              "      border-left-color: var(--fill-color);\n",
              "    }\n",
              "    20% {\n",
              "      border-color: transparent;\n",
              "      border-left-color: var(--fill-color);\n",
              "      border-top-color: var(--fill-color);\n",
              "    }\n",
              "    30% {\n",
              "      border-color: transparent;\n",
              "      border-left-color: var(--fill-color);\n",
              "      border-top-color: var(--fill-color);\n",
              "      border-right-color: var(--fill-color);\n",
              "    }\n",
              "    40% {\n",
              "      border-color: transparent;\n",
              "      border-right-color: var(--fill-color);\n",
              "      border-top-color: var(--fill-color);\n",
              "    }\n",
              "    60% {\n",
              "      border-color: transparent;\n",
              "      border-right-color: var(--fill-color);\n",
              "    }\n",
              "    80% {\n",
              "      border-color: transparent;\n",
              "      border-right-color: var(--fill-color);\n",
              "      border-bottom-color: var(--fill-color);\n",
              "    }\n",
              "    90% {\n",
              "      border-color: transparent;\n",
              "      border-bottom-color: var(--fill-color);\n",
              "    }\n",
              "  }\n",
              "</style>\n",
              "\n",
              "  <script>\n",
              "    async function quickchart(key) {\n",
              "      const quickchartButtonEl =\n",
              "        document.querySelector('#' + key + ' button');\n",
              "      quickchartButtonEl.disabled = true;  // To prevent multiple clicks.\n",
              "      quickchartButtonEl.classList.add('colab-df-spinner');\n",
              "      try {\n",
              "        const charts = await google.colab.kernel.invokeFunction(\n",
              "            'suggestCharts', [key], {});\n",
              "      } catch (error) {\n",
              "        console.error('Error during call to suggestCharts:', error);\n",
              "      }\n",
              "      quickchartButtonEl.classList.remove('colab-df-spinner');\n",
              "      quickchartButtonEl.classList.add('colab-df-quickchart-complete');\n",
              "    }\n",
              "    (() => {\n",
              "      let quickchartButtonEl =\n",
              "        document.querySelector('#df-bb91987a-7c2b-4b46-8dcc-4f662413623d button');\n",
              "      quickchartButtonEl.style.display =\n",
              "        google.colab.kernel.accessAllowed ? 'block' : 'none';\n",
              "    })();\n",
              "  </script>\n",
              "</div>\n",
              "\n",
              "    </div>\n",
              "  </div>\n"
            ],
            "application/vnd.google.colaboratory.intrinsic+json": {
              "type": "dataframe",
              "variable_name": "corrola_enc",
              "summary": "{\n  \"name\": \"corrola_enc\",\n  \"rows\": 1436,\n  \"fields\": [\n    {\n      \"column\": \"Age_08_04\",\n      \"properties\": {\n        \"dtype\": \"number\",\n        \"std\": 18,\n        \"min\": 1,\n        \"max\": 80,\n        \"num_unique_values\": 77,\n        \"samples\": [\n          32,\n          39,\n          29\n        ],\n        \"semantic_type\": \"\",\n        \"description\": \"\"\n      }\n    },\n    {\n      \"column\": \"KM\",\n      \"properties\": {\n        \"dtype\": \"number\",\n        \"std\": 37506,\n        \"min\": 1,\n        \"max\": 243000,\n        \"num_unique_values\": 1263,\n        \"samples\": [\n          57829,\n          51000,\n          34882\n        ],\n        \"semantic_type\": \"\",\n        \"description\": \"\"\n      }\n    },\n    {\n      \"column\": \"HP\",\n      \"properties\": {\n        \"dtype\": \"number\",\n        \"std\": 14,\n        \"min\": 69,\n        \"max\": 192,\n        \"num_unique_values\": 12,\n        \"samples\": [\n          107,\n          72,\n          90\n        ],\n        \"semantic_type\": \"\",\n        \"description\": \"\"\n      }\n    },\n    {\n      \"column\": \"Automatic\",\n      \"properties\": {\n        \"dtype\": \"number\",\n        \"std\": 0,\n        \"min\": 0,\n        \"max\": 1,\n        \"num_unique_values\": 2,\n        \"samples\": [\n          1,\n          0\n        ],\n        \"semantic_type\": \"\",\n        \"description\": \"\"\n      }\n    },\n    {\n      \"column\": \"Doors\",\n      \"properties\": {\n        \"dtype\": \"number\",\n        \"std\": 0,\n        \"min\": 2,\n        \"max\": 5,\n        \"num_unique_values\": 4,\n        \"samples\": [\n          5,\n          2\n        ],\n        \"semantic_type\": \"\",\n        \"description\": \"\"\n      }\n    },\n    {\n      \"column\": \"Quarterly_Tax\",\n      \"properties\": {\n        \"dtype\": \"number\",\n        \"std\": 41,\n        \"min\": 19,\n        \"max\": 283,\n        \"num_unique_values\": 13,\n        \"samples\": [\n          72,\n          197\n        ],\n        \"semantic_type\": \"\",\n        \"description\": \"\"\n      }\n    },\n    {\n      \"column\": \"Mfr_Guarantee\",\n      \"properties\": {\n        \"dtype\": \"number\",\n        \"std\": 0,\n        \"min\": 0,\n        \"max\": 1,\n        \"num_unique_values\": 2,\n        \"samples\": [\n          1,\n          0\n        ],\n        \"semantic_type\": \"\",\n        \"description\": \"\"\n      }\n    },\n    {\n      \"column\": \"Guarantee_Period\",\n      \"properties\": {\n        \"dtype\": \"number\",\n        \"std\": 3,\n        \"min\": 3,\n        \"max\": 36,\n        \"num_unique_values\": 9,\n        \"samples\": [\n          36,\n          12\n        ],\n        \"semantic_type\": \"\",\n        \"description\": \"\"\n      }\n    },\n    {\n      \"column\": \"Airco\",\n      \"properties\": {\n        \"dtype\": \"number\",\n        \"std\": 0,\n        \"min\": 0,\n        \"max\": 1,\n        \"num_unique_values\": 2,\n        \"samples\": [\n          1,\n          0\n        ],\n        \"semantic_type\": \"\",\n        \"description\": \"\"\n      }\n    },\n    {\n      \"column\": \"Automatic_airco\",\n      \"properties\": {\n        \"dtype\": \"number\",\n        \"std\": 0,\n        \"min\": 0,\n        \"max\": 1,\n        \"num_unique_values\": 2,\n        \"samples\": [\n          1,\n          0\n        ],\n        \"semantic_type\": \"\",\n        \"description\": \"\"\n      }\n    },\n    {\n      \"column\": \"CD_Player\",\n      \"properties\": {\n        \"dtype\": \"number\",\n        \"std\": 0,\n        \"min\": 0,\n        \"max\": 1,\n        \"num_unique_values\": 2,\n        \"samples\": [\n          1,\n          0\n        ],\n        \"semantic_type\": \"\",\n        \"description\": \"\"\n      }\n    },\n    {\n      \"column\": \"Powered_Windows\",\n      \"properties\": {\n        \"dtype\": \"number\",\n        \"std\": 0,\n        \"min\": 0,\n        \"max\": 1,\n        \"num_unique_values\": 2,\n        \"samples\": [\n          0,\n          1\n        ],\n        \"semantic_type\": \"\",\n        \"description\": \"\"\n      }\n    },\n    {\n      \"column\": \"Sport_Model\",\n      \"properties\": {\n        \"dtype\": \"number\",\n        \"std\": 0,\n        \"min\": 0,\n        \"max\": 1,\n        \"num_unique_values\": 2,\n        \"samples\": [\n          1,\n          0\n        ],\n        \"semantic_type\": \"\",\n        \"description\": \"\"\n      }\n    },\n    {\n      \"column\": \"Tow_Bar\",\n      \"properties\": {\n        \"dtype\": \"number\",\n        \"std\": 0,\n        \"min\": 0,\n        \"max\": 1,\n        \"num_unique_values\": 2,\n        \"samples\": [\n          1,\n          0\n        ],\n        \"semantic_type\": \"\",\n        \"description\": \"\"\n      }\n    },\n    {\n      \"column\": \"Price\",\n      \"properties\": {\n        \"dtype\": \"number\",\n        \"std\": 3626,\n        \"min\": 4350,\n        \"max\": 32500,\n        \"num_unique_values\": 236,\n        \"samples\": [\n          17795,\n          10350\n        ],\n        \"semantic_type\": \"\",\n        \"description\": \"\"\n      }\n    },\n    {\n      \"column\": \"Fuel_Type_Diesel\",\n      \"properties\": {\n        \"dtype\": \"number\",\n        \"std\": 0,\n        \"min\": 0,\n        \"max\": 1,\n        \"num_unique_values\": 2,\n        \"samples\": [\n          0,\n          1\n        ],\n        \"semantic_type\": \"\",\n        \"description\": \"\"\n      }\n    },\n    {\n      \"column\": \"Fuel_Type_Petrol\",\n      \"properties\": {\n        \"dtype\": \"number\",\n        \"std\": 0,\n        \"min\": 0,\n        \"max\": 1,\n        \"num_unique_values\": 2,\n        \"samples\": [\n          1,\n          0\n        ],\n        \"semantic_type\": \"\",\n        \"description\": \"\"\n      }\n    }\n  ]\n}"
            }
          },
          "metadata": {},
          "execution_count": 29
        }
      ]
    },
    {
      "cell_type": "code",
      "source": [
        "# WIth these data preparation steps complete, we split the data into training (50%), validation (30%), and test (20%) datasets\n",
        "from sklearn.model_selection import train_test_split\n",
        "\n",
        "# Split the data into training and remaining dataset\n",
        "X_train, X_rem, y_train, y_rem = train_test_split(\n",
        "    corrola_enc.drop('Price', axis=1), corrola_enc['Price'], test_size=0.5, random_state=42)\n",
        "\n",
        "# Now split the remaining dataset into validation and test datasets.\n",
        "# 40% of the remaining 50% is 30% of total\n",
        "X_valid, X_test, y_valid, y_test = train_test_split(\n",
        "    X_rem, y_rem, test_size=0.4, random_state=42)\n",
        "\n",
        "# shape is (# of rows, # of columns)\n",
        "print(X_train.shape)\n",
        "print(y_train.shape)\n",
        "print(X_valid.shape)\n",
        "print(y_valid.shape)\n",
        "print(X_test.shape)\n",
        "print(y_test.shape)"
      ],
      "metadata": {
        "colab": {
          "base_uri": "https://localhost:8080/"
        },
        "id": "DEriYyCyl9ir",
        "outputId": "428e9550-6528-4288-eb83-ae07eb43b478"
      },
      "execution_count": 30,
      "outputs": [
        {
          "output_type": "stream",
          "name": "stdout",
          "text": [
            "(718, 16)\n",
            "(718,)\n",
            "(430, 16)\n",
            "(430,)\n",
            "(288, 16)\n",
            "(288,)\n"
          ]
        }
      ]
    },
    {
      "cell_type": "markdown",
      "source": [
        "### 3.  Run a multiple linear regression with the outcome variable Price and predictor variables: Age_08_04, KM, Fuel_Type, HP, Automatic, Doors, Quarterly_Tax, Mfr_Guarantee, Guarantee_Period, Airco, Automatic_airco, CD_Player, Powered_Windows, Sport_Model, and Tow_Bar."
      ],
      "metadata": {
        "id": "3389ygPIWNOK"
      }
    },
    {
      "cell_type": "code",
      "source": [
        "# Train the model\n",
        "\n",
        "from sklearn.linear_model import LinearRegression\n",
        "from sklearn.metrics import mean_squared_error, r2_score\n",
        "\n",
        "lr_model = LinearRegression()\n",
        "lr_model.fit(X_train, y_train)\n",
        "\n",
        "print(lr_model.intercept_)\n",
        "print(lr_model.coef_)\n"
      ],
      "metadata": {
        "colab": {
          "base_uri": "https://localhost:8080/"
        },
        "id": "cCxqKN_yl3O6",
        "outputId": "bc01da05-6371-4993-dbc9-62d9d4e08ff8"
      },
      "execution_count": 31,
      "outputs": [
        {
          "output_type": "stream",
          "name": "stdout",
          "text": [
            "9742.208352728834\n",
            "[-1.08704629e+02 -1.77211025e-02  3.25122471e+01  5.77899481e+02\n",
            "  1.94880208e+02  1.54915042e+01  2.77396627e+02  6.81605818e+01\n",
            "  2.46572488e+02  2.85415537e+03  3.62275419e+02  4.19159345e+02\n",
            "  3.96351672e+02 -2.56982042e+02  1.84717700e+03  1.85612566e+03]\n"
          ]
        }
      ]
    },
    {
      "cell_type": "code",
      "source": [
        "#display Task 3 model summary to begin assessing predictive power (performance) in subsequent tasks\n",
        "\n",
        "#X_train = train_data[predictors]\n",
        "#y_train = train_data[target]\n",
        "model = LinearRegression()\n",
        "model.fit(X_train, y_train)\n",
        "\n",
        "# Validate the model\n",
        "#X_val = val_data[predictors]\n",
        "#y_val = val_data[target]\n",
        "y_pred = model.predict(X_valid)\n",
        "\n",
        "# Calculate performance metrics\n",
        "print(f\"Training set score: {lr_model.score(X_train, y_train):.4f}\")\n",
        "print(f\"Validation set score: {lr_model.score(X_valid, y_valid):.4f}\")\n",
        "print(f\"RMSE: {rmse:.4f}\")\n",
        "print(f\"R-squared: {r2:.4f}\")\n",
        "\n",
        "#rmse = mean_squared_error(y_valid, y_pred, squared=False)\n",
        "#r2 = r2_score(y_valid, y_pred)\n",
        "\n",
        "# Display the performance metrics\n",
        "#print(f\"ML_RMSE: {rmse:.4f}\")\n",
        "#print(f\"ML_R-squared: {r2:.4f}\")\n",
        "rmse, r2"
      ],
      "metadata": {
        "id": "y5u4VeZgmZy-",
        "colab": {
          "base_uri": "https://localhost:8080/"
        },
        "outputId": "9d0afaaf-74b4-48d7-9037-e7af2ffc0ba7"
      },
      "execution_count": 33,
      "outputs": [
        {
          "output_type": "stream",
          "name": "stdout",
          "text": [
            "Training set score: 0.8913\n",
            "Validation set score: 0.8917\n",
            "RMSE: 1271.2089\n",
            "R-squared: 0.8917\n",
            "ML_RMSE: 1271.2089\n",
            "ML_R-squared: 0.8917\n"
          ]
        },
        {
          "output_type": "execute_result",
          "data": {
            "text/plain": [
              "(1271.2088887753819, 0.8917022188907276)"
            ]
          },
          "metadata": {},
          "execution_count": 33
        }
      ]
    },
    {
      "cell_type": "markdown",
      "source": [
        "### 4.  What appear to be the three or four most important car specifications for predicting the car’s price?"
      ],
      "metadata": {
        "id": "9p_4oezPXkpT"
      }
    },
    {
      "cell_type": "code",
      "source": [
        "# sklearn metrics indicate our predictor variables can account for much of the variablility in price (greater than 89%).  To answer the question in this task we\n",
        "# use statsmodels\n",
        "\n",
        "import statsmodels.api as sm\n",
        "\n",
        "# For Fun, Let's Use sm to get\n",
        "# an alternative Ordinary Least Squares (OLS) Linear Regression model summary\n",
        "X2 = sm.add_constant(X_train)\n",
        "est = sm.OLS(y_train, X2)\n",
        "est2 = est.fit()\n",
        "print(est2.summary())\n",
        "print(\"*\"*10)\n",
        "print(est2.summary2())"
      ],
      "metadata": {
        "colab": {
          "base_uri": "https://localhost:8080/"
        },
        "id": "8xQVgcu1rs0f",
        "outputId": "fb093828-bd56-47e0-c339-a6575cb55563"
      },
      "execution_count": 34,
      "outputs": [
        {
          "output_type": "stream",
          "name": "stdout",
          "text": [
            "                            OLS Regression Results                            \n",
            "==============================================================================\n",
            "Dep. Variable:                  Price   R-squared:                       0.891\n",
            "Model:                            OLS   Adj. R-squared:                  0.889\n",
            "Method:                 Least Squares   F-statistic:                     359.3\n",
            "Date:                Wed, 24 Jul 2024   Prob (F-statistic):               0.00\n",
            "Time:                        17:33:02   Log-Likelihood:                -6087.1\n",
            "No. Observations:                 718   AIC:                         1.221e+04\n",
            "Df Residuals:                     701   BIC:                         1.229e+04\n",
            "Df Model:                          16                                         \n",
            "Covariance Type:            nonrobust                                         \n",
            "====================================================================================\n",
            "                       coef    std err          t      P>|t|      [0.025      0.975]\n",
            "------------------------------------------------------------------------------------\n",
            "const             9742.2084    717.008     13.587      0.000    8334.469    1.11e+04\n",
            "Age_08_04         -108.7046      3.726    -29.172      0.000    -116.021    -101.388\n",
            "KM                  -0.0177      0.002    -10.792      0.000      -0.021      -0.014\n",
            "HP                  32.5122      3.927      8.280      0.000      24.803      40.222\n",
            "Automatic          577.8995    191.414      3.019      0.003     202.085     953.714\n",
            "Doors              194.8802     48.739      3.998      0.000      99.188     290.572\n",
            "Quarterly_Tax       15.4915      2.269      6.827      0.000      11.037      19.947\n",
            "Mfr_Guarantee      277.3966     95.322      2.910      0.004      90.245     464.548\n",
            "Guarantee_Period    68.1606     16.516      4.127      0.000      35.734     100.587\n",
            "Airco              246.5725    112.093      2.200      0.028      26.495     466.650\n",
            "Automatic_airco   2854.1554    236.922     12.047      0.000    2388.993    3319.318\n",
            "CD_Player          362.2754    124.065      2.920      0.004     118.691     605.860\n",
            "Powered_Windows    419.1593    107.247      3.908      0.000     208.595     629.724\n",
            "Sport_Model        396.3517    102.214      3.878      0.000     195.670     597.033\n",
            "Tow_Bar           -256.9820    101.975     -2.520      0.012    -457.196     -56.768\n",
            "Fuel_Type_Diesel  1847.1770    438.270      4.215      0.000     986.697    2707.657\n",
            "Fuel_Type_Petrol  1856.1257    462.785      4.011      0.000     947.515    2764.736\n",
            "==============================================================================\n",
            "Omnibus:                       39.836   Durbin-Watson:                   2.048\n",
            "Prob(Omnibus):                  0.000   Jarque-Bera (JB):               73.214\n",
            "Skew:                           0.378   Prob(JB):                     1.26e-16\n",
            "Kurtosis:                       4.370   Cond. No.                     1.58e+06\n",
            "==============================================================================\n",
            "\n",
            "Notes:\n",
            "[1] Standard Errors assume that the covariance matrix of the errors is correctly specified.\n",
            "[2] The condition number is large, 1.58e+06. This might indicate that there are\n",
            "strong multicollinearity or other numerical problems.\n",
            "**********\n",
            "                    Results: Ordinary least squares\n",
            "========================================================================\n",
            "Model:                 OLS               Adj. R-squared:      0.889     \n",
            "Dependent Variable:    Price             AIC:                 12208.2981\n",
            "Date:                  2024-07-24 17:33  BIC:                 12286.0980\n",
            "No. Observations:      718               Log-Likelihood:      -6087.1   \n",
            "Df Model:              16                F-statistic:         359.3     \n",
            "Df Residuals:          701               Prob (F-statistic):  0.00      \n",
            "R-squared:             0.891             Scale:               1.3860e+06\n",
            "------------------------------------------------------------------------\n",
            "                   Coef.   Std.Err.    t     P>|t|    [0.025    0.975]  \n",
            "------------------------------------------------------------------------\n",
            "const            9742.2084 717.0076  13.5873 0.0000 8334.4688 11149.9479\n",
            "Age_08_04        -108.7046   3.7263 -29.1719 0.0000 -116.0208  -101.3885\n",
            "KM                 -0.0177   0.0016 -10.7925 0.0000   -0.0209    -0.0145\n",
            "HP                 32.5122   3.9266   8.2800 0.0000   24.8030    40.2215\n",
            "Automatic         577.8995 191.4145   3.0191 0.0026  202.0852   953.7138\n",
            "Doors             194.8802  48.7390   3.9984 0.0001   99.1883   290.5721\n",
            "Quarterly_Tax      15.4915   2.2691   6.8272 0.0000   11.0365    19.9465\n",
            "Mfr_Guarantee     277.3966  95.3222   2.9101 0.0037   90.2455   464.5478\n",
            "Guarantee_Period   68.1606  16.5158   4.1270 0.0000   35.7342   100.5870\n",
            "Airco             246.5725 112.0925   2.1997 0.0282   26.4952   466.6498\n",
            "Automatic_airco  2854.1554 236.9222  12.0468 0.0000 2388.9932  3319.3175\n",
            "CD_Player         362.2754 124.0655   2.9200 0.0036  118.6910   605.8598\n",
            "Powered_Windows   419.1593 107.2475   3.9083 0.0001  208.5946   629.7241\n",
            "Sport_Model       396.3517 102.2136   3.8777 0.0001  195.6702   597.0331\n",
            "Tow_Bar          -256.9820 101.9753  -2.5200 0.0120 -457.1957   -56.7684\n",
            "Fuel_Type_Diesel 1847.1770 438.2702   4.2147 0.0000  986.6974  2707.6566\n",
            "Fuel_Type_Petrol 1856.1257 462.7849   4.0108 0.0001  947.5150  2764.7363\n",
            "------------------------------------------------------------------------\n",
            "Omnibus:                39.836         Durbin-Watson:            2.048  \n",
            "Prob(Omnibus):          0.000          Jarque-Bera (JB):         73.214 \n",
            "Skew:                   0.378          Prob(JB):                 0.000  \n",
            "Kurtosis:               4.370          Condition No.:            1580842\n",
            "========================================================================\n",
            "Notes:\n",
            "[1] Standard Errors assume that the covariance matrix of the errors is\n",
            "correctly specified.\n",
            "[2] The condition number is large, 1.58e+06. This might indicate\n",
            "that there are strong multicollinearity or other numerical\n",
            "problems.\n"
          ]
        }
      ]
    },
    {
      "cell_type": "markdown",
      "source": [
        "### 5. Using metrics, you consider useful, assess the performance of the model in predicting price."
      ],
      "metadata": {
        "id": "3eQ8-MQjXuUC"
      }
    },
    {
      "cell_type": "code",
      "source": [
        "#see distribution of outcome varible to determine if Linear Regression assumtions of normality are reasonable\n",
        "\n",
        "#create histogram to visualize values in dataset\n",
        "import matplotlib.pyplot as plt\n",
        "%matplotlib inline\n",
        "\n",
        "print(plt.hist(corrola_enc['Price'], edgecolor='black', bins=30))\n",
        "\n",
        "#fig = sm.qqplot(corrola_enc['Price'], line='45')\n",
        "#print(plt.show())\n"
      ],
      "metadata": {
        "colab": {
          "base_uri": "https://localhost:8080/",
          "height": 604
        },
        "id": "YmYaSKgT0NnD",
        "outputId": "4dea8589-1d48-4b19-c391-ffa692c7f288"
      },
      "execution_count": 43,
      "outputs": [
        {
          "output_type": "stream",
          "name": "stdout",
          "text": [
            "(array([  7.,  22.,  81., 196., 279., 231., 111., 134.,  98.,  65.,  26.,\n",
            "        23.,  36.,  21.,  18.,  29.,  22.,   8.,  12.,   8.,   2.,   4.,\n",
            "         0.,   0.,   0.,   0.,   0.,   0.,   2.,   1.]), array([ 4350.        ,  5288.33333333,  6226.66666667,  7165.        ,\n",
            "        8103.33333333,  9041.66666667,  9980.        , 10918.33333333,\n",
            "       11856.66666667, 12795.        , 13733.33333333, 14671.66666667,\n",
            "       15610.        , 16548.33333333, 17486.66666667, 18425.        ,\n",
            "       19363.33333333, 20301.66666667, 21240.        , 22178.33333333,\n",
            "       23116.66666667, 24055.        , 24993.33333333, 25931.66666667,\n",
            "       26870.        , 27808.33333333, 28746.66666667, 29685.        ,\n",
            "       30623.33333333, 31561.66666667, 32500.        ]), <BarContainer object of 30 artists>)\n"
          ]
        },
        {
          "output_type": "display_data",
          "data": {
            "text/plain": [
              "<Figure size 640x480 with 1 Axes>"
            ],
            "image/png": "[encoded data removed]"
          },
          "metadata": {}
        }
      ]
    },
    {
      "cell_type": "code",
      "source": [
        "print(type(corrola_enc['Price']))\n",
        "print(type(corrola_enc['Price'].values))\n",
        "print(type(lognorm_dataset))"
      ],
      "metadata": {
        "colab": {
          "base_uri": "https://localhost:8080/"
        },
        "id": "SNlADd4c6OBg",
        "outputId": "61ae8228-29a9-45de-cf1a-8bc1dda2c7ba"
      },
      "execution_count": 55,
      "outputs": [
        {
          "output_type": "stream",
          "name": "stdout",
          "text": [
            "<class 'pandas.core.series.Series'>\n",
            "<class 'numpy.ndarray'>\n",
            "<class 'numpy.ndarray'>\n"
          ]
        }
      ]
    },
    {
      "cell_type": "code",
      "source": [
        "\n",
        "print(corrola_enc['Price'].values.shape)\n",
        "print(lognorm_dataset.shape)"
      ],
      "metadata": {
        "colab": {
          "base_uri": "https://localhost:8080/"
        },
        "id": "8Tz-6XfN_K6n",
        "outputId": "e22f4a22-cf22-41ed-f2f3-306a57614843"
      },
      "execution_count": 63,
      "outputs": [
        {
          "output_type": "stream",
          "name": "stdout",
          "text": [
            "(1436,)\n",
            "(1000,)\n"
          ]
        }
      ]
    },
    {
      "cell_type": "code",
      "source": [
        "#only parameter based estimation of normaility that works as expected is Shapiro test\n",
        "# the very low pvalue of the test statistic does indicate that the assumption of normality may not be valid for our Linear Regression model\n",
        "# This result would support a future recommendation of exploring other outcome variable transformations or training models that better match the price outcome distribution\n",
        "\n",
        "from scipy.stats import shapiro\n",
        "\n",
        "print(shapiro(lognorm_dataset))\n",
        "shapiro(corrola_enc['Price'].values)\n",
        "\n",
        "#ShapiroResult(statistic=0.8573324680328369, pvalue=3.880663073872444e-29)"
      ],
      "metadata": {
        "colab": {
          "base_uri": "https://localhost:8080/"
        },
        "id": "dBx1LAvy_syQ",
        "outputId": "c2c930aa-015b-4bcd-98f9-08172b3ba4d4"
      },
      "execution_count": 66,
      "outputs": [
        {
          "output_type": "stream",
          "name": "stdout",
          "text": [
            "ShapiroResult(statistic=0.8573322892189026, pvalue=3.880496661488187e-29)\n"
          ]
        },
        {
          "output_type": "execute_result",
          "data": {
            "text/plain": [
              "ShapiroResult(statistic=0.8522822856903076, pvalue=1.2140943021843038e-34)"
            ]
          },
          "metadata": {},
          "execution_count": 66
        }
      ]
    },
    {
      "cell_type": "code",
      "source": [
        "# We were unable to condition data to provide valid qq plot or Kolmogorov-Smirnov Test\n",
        "# Future Recommendation: use invest time to generate valid tests, since shapiro test does support valid linear regression assumptions about outcome normal distribution\n",
        "fig = sm.qqplot(corrola_enc['Price'].values, line='45')\n",
        "\n",
        "plt.show()"
      ],
      "metadata": {
        "colab": {
          "base_uri": "https://localhost:8080/",
          "height": 449
        },
        "id": "hvCoTyUx_BV7",
        "outputId": "3cc24099-58aa-41a4-a89a-3cdc7dfad60e"
      },
      "execution_count": 56,
      "outputs": [
        {
          "output_type": "display_data",
          "data": {
            "text/plain": [
              "<Figure size 640x480 with 1 Axes>"
            ],
            "image/png": "[encoded data removed]"
          },
          "metadata": {}
        }
      ]
    },
    {
      "cell_type": "code",
      "source": [
        "import math\n",
        "import numpy as np\n",
        "from scipy.stats import kstest\n",
        "from scipy.stats import lognorm\n",
        "\n",
        "#make this example reproducible\n",
        "np.random.seed(1)\n",
        "\n",
        "#generate dataset that contains 1000 log-normal distributed values\n",
        "lognorm_dataset = lognorm.rvs(s=.5, scale=math.exp(1), size=1000)\n",
        "\n",
        "#perform Kolmogorov-Smirnov test for normality\n",
        "print(kstest(lognorm_dataset, 'norm'))\n",
        "\n",
        "print(kstest(corrola_enc['Price'].values, 'norm'))\n",
        "\n",
        "#KstestResult(statistic=0.84125708308077, pvalue=0.0)"
      ],
      "metadata": {
        "colab": {
          "base_uri": "https://localhost:8080/"
        },
        "id": "NIMgf0I052ab",
        "outputId": "29dff7c6-be3d-4c67-a825-aad629c51f60"
      },
      "execution_count": 67,
      "outputs": [
        {
          "output_type": "stream",
          "name": "stdout",
          "text": [
            "KstestResult(statistic=0.84125708308077, pvalue=0.0, statistic_location=1.2773298091955965, statistic_sign=-1)\n",
            "KstestResult(statistic=1.0, pvalue=0.0, statistic_location=4350, statistic_sign=-1)\n"
          ]
        }
      ]
    },
    {
      "cell_type": "markdown",
      "source": [
        "# Part II\n"
      ],
      "metadata": {
        "id": "FW1diwukUoWO"
      }
    },
    {
      "cell_type": "markdown",
      "source": [
        "### 1. Data Preprocessing. Split the data into training (60%), and validation (40%) datasets."
      ],
      "metadata": {
        "id": "S_Bj3BjuXLUm"
      }
    },
    {
      "cell_type": "markdown",
      "source": [
        "### 2. Run a full-grown regression tree (RT) with outcome variable Price and predictors Age_08_04, KM, Fuel_Type (first convert to dummies), HP, Automatic, Doors, Quarterly_Tax, Mfr_Guarantee, Guarantee_Period, Airco, Automatic_airco, CD_Player, Powered_Windows, Sport_Model, and Tow_Bar. Set random_state=1."
      ],
      "metadata": {
        "id": "02Tv-Vb-ZH-M"
      }
    },
    {
      "cell_type": "markdown",
      "source": [
        "### 3. Which appear to be the three or four most important car specifications for predicting the car’s price?"
      ],
      "metadata": {
        "id": "zpS8EleHZU0D"
      }
    },
    {
      "cell_type": "markdown",
      "source": [
        "### 4. Compare the prediction errors of the training and validation sets by examining their RMS error and by plotting the two boxplots. How does the predictive performance of the validation set compare to the training set? Why does this occur?"
      ],
      "metadata": {
        "id": "b-O4hlIVZbi2"
      }
    },
    {
      "cell_type": "markdown",
      "source": [
        "### 5. Predict the price, using the smaller RT of a used Toyota Corolla with the specifications listed in Table 1, see below."
      ],
      "metadata": {
        "id": "8KoXFADDZmKt"
      }
    }
  ]
}